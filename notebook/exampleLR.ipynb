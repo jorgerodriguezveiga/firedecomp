{
 "cells": [
  {
   "cell_type": "code",
   "execution_count": 1,
   "metadata": {},
   "outputs": [
    {
     "ename": "ModuleNotFoundError",
     "evalue": "No module named 'firedecomp'",
     "output_type": "error",
     "traceback": [
      "\u001b[1;31m---------------------------------------------------------------------------\u001b[0m",
      "\u001b[1;31mModuleNotFoundError\u001b[0m                       Traceback (most recent call last)",
      "\u001b[1;32m<ipython-input-1-8dfc2edfc0e3>\u001b[0m in \u001b[0;36m<module>\u001b[1;34m\u001b[0m\n\u001b[1;32m----> 1\u001b[1;33m \u001b[1;32mimport\u001b[0m \u001b[0mfiredecomp\u001b[0m\u001b[1;33m\u001b[0m\u001b[1;33m\u001b[0m\u001b[0m\n\u001b[0m\u001b[0;32m      2\u001b[0m \u001b[1;32mimport\u001b[0m \u001b[0mtime\u001b[0m\u001b[1;33m\u001b[0m\u001b[1;33m\u001b[0m\u001b[0m\n\u001b[0;32m      3\u001b[0m \u001b[1;32mfrom\u001b[0m \u001b[0mfiredecomp\u001b[0m\u001b[1;33m.\u001b[0m\u001b[0moriginal\u001b[0m \u001b[1;32mimport\u001b[0m \u001b[0mmodel\u001b[0m\u001b[1;33m\u001b[0m\u001b[1;33m\u001b[0m\u001b[0m\n\u001b[0;32m      4\u001b[0m \u001b[1;32mfrom\u001b[0m \u001b[0mfiredecomp\u001b[0m\u001b[1;33m.\u001b[0m\u001b[0mbenders\u001b[0m \u001b[1;32mimport\u001b[0m \u001b[0mbenders\u001b[0m\u001b[1;33m\u001b[0m\u001b[1;33m\u001b[0m\u001b[0m\n\u001b[0;32m      5\u001b[0m \u001b[1;32mfrom\u001b[0m \u001b[0mfiredecomp\u001b[0m\u001b[1;33m.\u001b[0m\u001b[0mLR\u001b[0m \u001b[1;32mimport\u001b[0m \u001b[0mLR\u001b[0m\u001b[1;33m\u001b[0m\u001b[1;33m\u001b[0m\u001b[0m\n",
      "\u001b[1;31mModuleNotFoundError\u001b[0m: No module named 'firedecomp'"
     ]
    }
   ],
   "source": [
    "import firedecomp\n",
    "import time\n",
    "from firedecomp.original import model\n",
    "from firedecomp.benders import benders\n",
    "from firedecomp.LR import LR\n",
    "from firedecomp import config\n",
    "from firedecomp import plot"
   ]
  },
  {
   "cell_type": "code",
   "execution_count": 18,
   "metadata": {},
   "outputs": [
    {
     "data": {
      "text/plain": [
       "+----------------------+\n",
       "| Num. Resources: 3    |\n",
       "| Num. Groups: 1       |\n",
       "| Num. Periods: 9      |\n",
       "+----------------------+"
      ]
     },
     "execution_count": 18,
     "metadata": {},
     "output_type": "execute_result"
    }
   ],
   "source": [
    "problem = firedecomp.data.examples.small_example(); problem\n",
    "#problem = firedecomp.data.examples.input_example(num_aircraft=4, ini_perimeter=80, random=False, seed=11); problem"
   ]
  },
  {
   "cell_type": "code",
   "execution_count": 19,
   "metadata": {},
   "outputs": [],
   "source": [
    "method='LR'\n",
    "solver_options=None\n",
    "method_options=None\n",
    "min_res_penalty=1000000\n",
    "log_level=None\n",
    "if log_level is None:\n",
    "    log_level = 'LR'   \n",
    "default_LR_options = {\n",
    "    'min_res_penalty': 1000000,\n",
    "    'gap': 0.01,\n",
    "}\n",
    "if isinstance(method_options, dict):\n",
    "    default_LR_options.update(method_options)\n",
    "\n",
    "solver_options = {\n",
    "        'MIPGap': 0.0,\n",
    "        'MIPGapAbs': 0.0,\n",
    "        'OutputFlag': 0,\n",
    "        'LogToConsole': 0,\n",
    "    }\n",
    "\n",
    "LR_problem = LR.LagrangianRelaxation(\n",
    "    problem, **default_LR_options, log_level=log_level, solver_options=solver_options)\n",
    "   "
   ]
  },
  {
   "cell_type": "code",
   "execution_count": 20,
   "metadata": {},
   "outputs": [
    {
     "name": "stdout",
     "output_type": "stream",
     "text": [
      "Changed value of parameter MIPGap to 0.0\n",
      "   Prev: 0.0001  Min: 0.0  Max: 1e+100  Default: 0.0001\n",
      "Changed value of parameter MIPGapAbs to 0.0\n",
      "   Prev: 1e-10  Min: 0.0  Max: 1e+100  Default: 1e-10\n",
      "self.L_obj_down-3.9990000000000006\n",
      "self.obj30.001\n",
      "self.LR_pen-34.0\n",
      "self.lambda1_next :1.0909090909090908\n",
      "self.lambda1      :2.0\n",
      "self.lambda1_prev :2.0\n",
      "Iter: 1 Lambda: 2.0 LR(x): -3.9990000000000006 f(x):30.001 penL:-34.0\n",
      "\n",
      "Changed value of parameter MIPGap to 0.0\n",
      "   Prev: 0.0001  Min: 0.0  Max: 1e+100  Default: 0.0001\n",
      "Changed value of parameter MIPGapAbs to 0.0\n",
      "   Prev: 1e-10  Min: 0.0  Max: 1e+100  Default: 1e-10\n",
      "self.L_obj_down4.001\n",
      "self.obj10.001\n",
      "self.LR_pen-6.0\n",
      "self.lambda1_next :0.1385281385281385\n",
      "self.lambda1      :1.0909090909090908\n",
      "self.lambda1_prev :1.0909090909090908\n",
      "Iter: 2 Lambda: 1.0909090909090908 LR(x): 4.001 f(x):10.001 penL:-6.0\n",
      "\n",
      "Changed value of parameter MIPGap to 0.0\n",
      "   Prev: 0.0001  Min: 0.0  Max: 1e+100  Default: 0.0001\n",
      "Changed value of parameter MIPGapAbs to 0.0\n",
      "   Prev: 1e-10  Min: 0.0  Max: 1e+100  Default: 1e-10\n",
      "self.L_obj_down9.239095238095238\n",
      "self.obj10.001\n",
      "self.LR_pen-0.7619047619047618\n",
      "self.lambda1_next :-0.8292137969557324\n",
      "self.lambda1      :0.1385281385281385\n",
      "self.lambda1_prev :0.1385281385281385\n",
      "Iter: 3 Lambda: 0.1385281385281385 LR(x): 9.239095238095238 f(x):10.001 penL:-0.7619047619047618\n",
      "\n",
      "Changed value of parameter MIPGap to 0.0\n",
      "   Prev: 0.0001  Min: 0.0  Max: 1e+100  Default: 0.0001\n",
      "Changed value of parameter MIPGapAbs to 0.0\n",
      "   Prev: 1e-10  Min: 0.0  Max: 1e+100  Default: 1e-10\n",
      "self.L_obj_down10.0\n",
      "self.obj10.0\n",
      "self.LR_pen0.0\n",
      "self.lambda1_next :-0.8292137969557324\n",
      "self.lambda1      :-0.8292137969557324\n",
      "self.lambda1_prev :-0.8292137969557324\n",
      "Iter: 4 Lambda: -0.8292137969557324 LR(x): 10.0 f(x):10.0 penL:0.0\n",
      "\n",
      "[STOP] Lambda epsilion achieved!\n"
     ]
    }
   ],
   "source": [
    "solve_status = LR_problem.solve()"
   ]
  },
  {
   "cell_type": "code",
   "execution_count": 21,
   "metadata": {},
   "outputs": [
    {
     "name": "stdout",
     "output_type": "stream",
     "text": [
      "10.0\n"
     ]
    }
   ],
   "source": [
    "print(problem.get_cost())"
   ]
  },
  {
   "cell_type": "code",
   "execution_count": 22,
   "metadata": {},
   "outputs": [
    {
     "ename": "PlotlyEmptyDataError",
     "evalue": "Empty data list found. Make sure that you populated the list of data objects you're sending and try again.\nQuestions? Visit support.plot.ly",
     "output_type": "error",
     "traceback": [
      "\u001b[1;31m---------------------------------------------------------------------------\u001b[0m",
      "\u001b[1;31mPlotlyEmptyDataError\u001b[0m                      Traceback (most recent call last)",
      "\u001b[1;32m<ipython-input-22-30e9bb933db1>\u001b[0m in \u001b[0;36m<module>\u001b[1;34m()\u001b[0m\n\u001b[1;32m----> 1\u001b[1;33m \u001b[0mproblem\u001b[0m\u001b[1;33m.\u001b[0m\u001b[0mplot\u001b[0m\u001b[1;33m(\u001b[0m\u001b[0minfo\u001b[0m\u001b[1;33m=\u001b[0m\u001b[1;34m'scheduling'\u001b[0m\u001b[1;33m)\u001b[0m\u001b[1;33m\u001b[0m\u001b[1;33m\u001b[0m\u001b[0m\n\u001b[0m",
      "\u001b[1;32m~\\Anaconda3\\lib\\site-packages\\firedecomp-0.1.0-py3.7.egg\\firedecomp\\classes\\problem.py\u001b[0m in \u001b[0;36mplot\u001b[1;34m(self, info)\u001b[0m\n\u001b[0;32m    234\u001b[0m             \u001b[0mplot\u001b[0m\u001b[1;33m.\u001b[0m\u001b[0msolution\u001b[0m\u001b[1;33m.\u001b[0m\u001b[0mplot_contention\u001b[0m\u001b[1;33m(\u001b[0m\u001b[0mself\u001b[0m\u001b[1;33m)\u001b[0m\u001b[1;33m\u001b[0m\u001b[1;33m\u001b[0m\u001b[0m\n\u001b[0;32m    235\u001b[0m         \u001b[1;32melif\u001b[0m \u001b[0minfo\u001b[0m \u001b[1;33m==\u001b[0m \u001b[1;34m'scheduling'\u001b[0m\u001b[1;33m:\u001b[0m\u001b[1;33m\u001b[0m\u001b[1;33m\u001b[0m\u001b[0m\n\u001b[1;32m--> 236\u001b[1;33m             \u001b[0mplot\u001b[0m\u001b[1;33m.\u001b[0m\u001b[0msolution\u001b[0m\u001b[1;33m.\u001b[0m\u001b[0mplot_scheduling\u001b[0m\u001b[1;33m(\u001b[0m\u001b[0mself\u001b[0m\u001b[1;33m)\u001b[0m\u001b[1;33m\u001b[0m\u001b[1;33m\u001b[0m\u001b[0m\n\u001b[0m\u001b[0;32m    237\u001b[0m \u001b[1;33m\u001b[0m\u001b[0m\n\u001b[0;32m    238\u001b[0m     \u001b[1;32mdef\u001b[0m \u001b[0mget_names\u001b[0m\u001b[1;33m(\u001b[0m\u001b[0mself\u001b[0m\u001b[1;33m,\u001b[0m \u001b[0mattr\u001b[0m\u001b[1;33m)\u001b[0m\u001b[1;33m:\u001b[0m\u001b[1;33m\u001b[0m\u001b[1;33m\u001b[0m\u001b[0m\n",
      "\u001b[1;32m~\\Anaconda3\\lib\\site-packages\\firedecomp-0.1.0-py3.7.egg\\firedecomp\\plot\\solution.py\u001b[0m in \u001b[0;36mplot_scheduling\u001b[1;34m(problem)\u001b[0m\n\u001b[0;32m    120\u001b[0m                   )\n\u001b[0;32m    121\u001b[0m     plotly.offline.iplot({'data': data, 'layout': layout},\n\u001b[1;32m--> 122\u001b[1;33m                          filename='scatter-mode')\n\u001b[0m\u001b[0;32m    123\u001b[0m \u001b[1;31m# --------------------------------------------------------------------------- #\u001b[0m\u001b[1;33m\u001b[0m\u001b[1;33m\u001b[0m\u001b[1;33m\u001b[0m\u001b[0m\n",
      "\u001b[1;32m~\\Anaconda3\\lib\\site-packages\\plotly\\offline\\offline.py\u001b[0m in \u001b[0;36miplot\u001b[1;34m(figure_or_data, show_link, link_text, validate, image, filename, image_width, image_height, config)\u001b[0m\n\u001b[0;32m    454\u001b[0m     \u001b[0mjconfig\u001b[0m \u001b[1;33m=\u001b[0m \u001b[0m_get_jconfig\u001b[0m\u001b[1;33m(\u001b[0m\u001b[0mconfig\u001b[0m\u001b[1;33m)\u001b[0m\u001b[1;33m\u001b[0m\u001b[1;33m\u001b[0m\u001b[0m\n\u001b[0;32m    455\u001b[0m \u001b[1;33m\u001b[0m\u001b[0m\n\u001b[1;32m--> 456\u001b[1;33m     \u001b[0mfigure\u001b[0m \u001b[1;33m=\u001b[0m \u001b[0mtools\u001b[0m\u001b[1;33m.\u001b[0m\u001b[0mreturn_figure_from_figure_or_data\u001b[0m\u001b[1;33m(\u001b[0m\u001b[0mfigure_or_data\u001b[0m\u001b[1;33m,\u001b[0m \u001b[0mvalidate\u001b[0m\u001b[1;33m)\u001b[0m\u001b[1;33m\u001b[0m\u001b[1;33m\u001b[0m\u001b[0m\n\u001b[0m\u001b[0;32m    457\u001b[0m \u001b[1;33m\u001b[0m\u001b[0m\n\u001b[0;32m    458\u001b[0m     \u001b[1;31m# Though it can add quite a bit to the display-bundle size, we include\u001b[0m\u001b[1;33m\u001b[0m\u001b[1;33m\u001b[0m\u001b[1;33m\u001b[0m\u001b[0m\n",
      "\u001b[1;32m~\\Anaconda3\\lib\\site-packages\\plotly\\tools.py\u001b[0m in \u001b[0;36mreturn_figure_from_figure_or_data\u001b[1;34m(figure_or_data, validate_figure)\u001b[0m\n\u001b[0;32m   1519\u001b[0m         \u001b[1;32mif\u001b[0m \u001b[1;32mnot\u001b[0m \u001b[0mfigure\u001b[0m\u001b[1;33m[\u001b[0m\u001b[1;34m'data'\u001b[0m\u001b[1;33m]\u001b[0m\u001b[1;33m:\u001b[0m\u001b[1;33m\u001b[0m\u001b[1;33m\u001b[0m\u001b[0m\n\u001b[0;32m   1520\u001b[0m             raise exceptions.PlotlyEmptyDataError(\n\u001b[1;32m-> 1521\u001b[1;33m                 \u001b[1;34m\"Empty data list found. Make sure that you populated the \"\u001b[0m\u001b[1;33m\u001b[0m\u001b[1;33m\u001b[0m\u001b[0m\n\u001b[0m\u001b[0;32m   1522\u001b[0m                 \u001b[1;34m\"list of data objects you're sending and try again.\\n\"\u001b[0m\u001b[1;33m\u001b[0m\u001b[1;33m\u001b[0m\u001b[0m\n\u001b[0;32m   1523\u001b[0m                 \u001b[1;34m\"Questions? Visit support.plot.ly\"\u001b[0m\u001b[1;33m\u001b[0m\u001b[1;33m\u001b[0m\u001b[0m\n",
      "\u001b[1;31mPlotlyEmptyDataError\u001b[0m: Empty data list found. Make sure that you populated the list of data objects you're sending and try again.\nQuestions? Visit support.plot.ly"
     ]
    }
   ],
   "source": [
    "problem.plot(info='scheduling')"
   ]
  },
  {
   "cell_type": "code",
   "execution_count": null,
   "metadata": {},
   "outputs": [],
   "source": []
  }
 ],
 "metadata": {
  "kernelspec": {
   "display_name": "Python 3",
   "language": "python",
   "name": "python3"
  },
  "language_info": {
   "codemirror_mode": {
    "name": "ipython",
    "version": 3
   },
   "file_extension": ".py",
   "mimetype": "text/x-python",
   "name": "python",
   "nbconvert_exporter": "python",
   "pygments_lexer": "ipython3",
   "version": "3.7.3"
  }
 },
 "nbformat": 4,
 "nbformat_minor": 2
}
