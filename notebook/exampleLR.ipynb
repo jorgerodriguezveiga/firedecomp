{
 "cells": [
  {
   "cell_type": "code",
   "execution_count": 11,
   "metadata": {},
   "outputs": [
    {
     "ename": "ModuleNotFoundError",
     "evalue": "No module named 'firedecomp.LR'",
     "output_type": "error",
     "traceback": [
      "\u001b[1;31m---------------------------------------------------------------------------\u001b[0m",
      "\u001b[1;31mModuleNotFoundError\u001b[0m                       Traceback (most recent call last)",
      "\u001b[1;32m<ipython-input-11-8dfc2edfc0e3>\u001b[0m in \u001b[0;36m<module>\u001b[1;34m()\u001b[0m\n\u001b[0;32m      3\u001b[0m \u001b[1;32mfrom\u001b[0m \u001b[0mfiredecomp\u001b[0m\u001b[1;33m.\u001b[0m\u001b[0moriginal\u001b[0m \u001b[1;32mimport\u001b[0m \u001b[0mmodel\u001b[0m\u001b[1;33m\u001b[0m\u001b[1;33m\u001b[0m\u001b[0m\n\u001b[0;32m      4\u001b[0m \u001b[1;32mfrom\u001b[0m \u001b[0mfiredecomp\u001b[0m\u001b[1;33m.\u001b[0m\u001b[0mbenders\u001b[0m \u001b[1;32mimport\u001b[0m \u001b[0mbenders\u001b[0m\u001b[1;33m\u001b[0m\u001b[1;33m\u001b[0m\u001b[0m\n\u001b[1;32m----> 5\u001b[1;33m \u001b[1;32mfrom\u001b[0m \u001b[0mfiredecomp\u001b[0m\u001b[1;33m.\u001b[0m\u001b[0mLR\u001b[0m \u001b[1;32mimport\u001b[0m \u001b[0mLR\u001b[0m\u001b[1;33m\u001b[0m\u001b[1;33m\u001b[0m\u001b[0m\n\u001b[0m\u001b[0;32m      6\u001b[0m \u001b[1;32mfrom\u001b[0m \u001b[0mfiredecomp\u001b[0m \u001b[1;32mimport\u001b[0m \u001b[0mconfig\u001b[0m\u001b[1;33m\u001b[0m\u001b[1;33m\u001b[0m\u001b[0m\n\u001b[0;32m      7\u001b[0m \u001b[1;32mfrom\u001b[0m \u001b[0mfiredecomp\u001b[0m \u001b[1;32mimport\u001b[0m \u001b[0mplot\u001b[0m\u001b[1;33m\u001b[0m\u001b[1;33m\u001b[0m\u001b[0m\n",
      "\u001b[1;31mModuleNotFoundError\u001b[0m: No module named 'firedecomp.LR'"
     ]
    }
   ],
   "source": [
    "import firedecomp\n",
    "import time\n",
    "from firedecomp.original import model\n",
    "from firedecomp.benders import benders\n",
    "from firedecomp.LR import LR\n",
    "from firedecomp import config\n",
    "from firedecomp import plot"
   ]
  },
  {
   "cell_type": "code",
   "execution_count": 12,
   "metadata": {},
   "outputs": [
    {
     "data": {
      "text/plain": [
       "+-----------------------+\n",
       "| Num. Resources: 14    |\n",
       "| Num. Groups: 3        |\n",
       "| Num. Periods: 20      |\n",
       "+-----------------------+"
      ]
     },
     "execution_count": 12,
     "metadata": {},
     "output_type": "execute_result"
    }
   ],
   "source": [
    "#problem = firedecomp.data.examples.small_example(); problem\n",
    "problem = firedecomp.data.examples.input_example(num_aircraft=4, ini_perimeter=80, random=False, seed=11); problem"
   ]
  },
  {
   "cell_type": "code",
   "execution_count": 13,
   "metadata": {},
   "outputs": [],
   "source": [
    "method='LR'\n",
    "solver_options=None\n",
    "method_options=None\n",
    "min_res_penalty=1000000\n",
    "log_level=None\n",
    "if log_level is None:\n",
    "    log_level = 'LR'   \n",
    "default_LR_options = {\n",
    "    'min_res_penalty': 1000000,\n",
    "    'gap': 0.01,\n",
    "}\n",
    "if isinstance(method_options, dict):\n",
    "    default_LR_options.update(method_options)\n",
    "solver_options={'OutputFlag': 0, 'Presolve':0}"
   ]
  },
  {
   "cell_type": "code",
   "execution_count": 14,
   "metadata": {},
   "outputs": [
    {
     "ename": "NameError",
     "evalue": "name 'LR' is not defined",
     "output_type": "error",
     "traceback": [
      "\u001b[1;31m---------------------------------------------------------------------------\u001b[0m",
      "\u001b[1;31mNameError\u001b[0m                                 Traceback (most recent call last)",
      "\u001b[1;32m<ipython-input-14-5c5ffe34021a>\u001b[0m in \u001b[0;36m<module>\u001b[1;34m()\u001b[0m\n\u001b[1;32m----> 1\u001b[1;33m LR_problem = LR.LagrangianRelaxation(\n\u001b[0m\u001b[0;32m      2\u001b[0m     problem, **default_LR_options, log_level=log_level, option_decomp='R', solver_options=solver_options)\n",
      "\u001b[1;31mNameError\u001b[0m: name 'LR' is not defined"
     ]
    }
   ],
   "source": [
    "LR_problem = LR.LagrangianRelaxation(\n",
    "    problem, **default_LR_options, log_level=log_level, option_decomp='R', solver_options=solver_options)"
   ]
  },
  {
   "cell_type": "code",
   "execution_count": 15,
   "metadata": {},
   "outputs": [
    {
     "ename": "NameError",
     "evalue": "name 'LR_problem' is not defined",
     "output_type": "error",
     "traceback": [
      "\u001b[1;31m---------------------------------------------------------------------------\u001b[0m",
      "\u001b[1;31mNameError\u001b[0m                                 Traceback (most recent call last)",
      "\u001b[1;32m<ipython-input-15-0ae06c1988e1>\u001b[0m in \u001b[0;36m<module>\u001b[1;34m()\u001b[0m\n\u001b[1;32m----> 1\u001b[1;33m \u001b[0msolve_status\u001b[0m \u001b[1;33m=\u001b[0m \u001b[0mLR_problem\u001b[0m\u001b[1;33m.\u001b[0m\u001b[0msolve\u001b[0m\u001b[1;33m(\u001b[0m\u001b[1;33m)\u001b[0m\u001b[1;33m\u001b[0m\u001b[1;33m\u001b[0m\u001b[0m\n\u001b[0m",
      "\u001b[1;31mNameError\u001b[0m: name 'LR_problem' is not defined"
     ]
    }
   ],
   "source": [
    "solve_status = LR_problem.solve()"
   ]
  },
  {
   "cell_type": "code",
   "execution_count": null,
   "metadata": {},
   "outputs": [],
   "source": []
  },
  {
   "cell_type": "code",
   "execution_count": null,
   "metadata": {},
   "outputs": [],
   "source": []
  }
 ],
 "metadata": {
  "kernelspec": {
   "display_name": "Python 3",
   "language": "python",
   "name": "python3"
  },
  "language_info": {
   "codemirror_mode": {
    "name": "ipython",
    "version": 3
   },
   "file_extension": ".py",
   "mimetype": "text/x-python",
   "name": "python",
   "nbconvert_exporter": "python",
   "pygments_lexer": "ipython3",
   "version": "3.7.2"
  }
 },
 "nbformat": 4,
 "nbformat_minor": 2
}
