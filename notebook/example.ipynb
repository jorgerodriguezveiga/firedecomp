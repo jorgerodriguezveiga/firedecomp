{
 "cells": [
  {
   "cell_type": "code",
   "execution_count": 1,
   "metadata": {},
   "outputs": [],
   "source": [
    "import firedecomp"
   ]
  },
  {
   "cell_type": "code",
   "execution_count": 2,
   "metadata": {},
   "outputs": [
    {
     "name": "stdout",
     "output_type": "stream",
     "text": [
      "['brigade', 'brigade', 'brigade', 'brigade', 'brigade']\n",
      "['aircraft', 'aircraft', 'aircraft', 'aircraft', 'aircraft']\n",
      "['machine', 'machine', 'machine', 'machine', 'machine']\n"
     ]
    }
   ],
   "source": [
    "problem = firedecomp.data.examples.input_example()"
   ]
  },
  {
   "cell_type": "code",
   "execution_count": 3,
   "metadata": {},
   "outputs": [
    {
     "name": "stdout",
     "output_type": "stream",
     "text": [
      "['machine', 'machine', 'machine', 'machine', 'machine']\n"
     ]
    },
    {
     "data": {
      "text/plain": [
       "[<Resource('machine_0')>,\n",
       " <Resource('machine_1')>,\n",
       " <Resource('machine_2')>,\n",
       " <Resource('machine_3')>,\n",
       " <Resource('machine_4')>]"
      ]
     },
     "execution_count": 3,
     "metadata": {},
     "output_type": "execute_result"
    }
   ],
   "source": [
    "[r for r in firedecomp.data.examples.resources_example(num_aircraft=0, num_brigades=0)]"
   ]
  },
  {
   "cell_type": "code",
   "execution_count": 4,
   "metadata": {},
   "outputs": [
    {
     "data": {
      "text/plain": [
       "PERIODS: 20\n",
       "RESOURCES: [<Resource('brigade_1')>, <Resource('brigade_2')>, <Resource('brigade_3')>, <Resource('brigade_4')>, <Resource('brigade_5')>, <Resource('aircraft_1')>, <Resource('aircraft_2')>, <Resource('aircraft_3')>, <Resource('aircraft_4')>, <Resource('aircraft_5')>, <Resource('machine_1')>, <Resource('machine_2')>, <Resource('machine_3')>, <Resource('machine_4')>, <Resource('machine_5')>]"
      ]
     },
     "execution_count": 4,
     "metadata": {},
     "output_type": "execute_result"
    }
   ],
   "source": [
    "problem"
   ]
  },
  {
   "cell_type": "code",
   "execution_count": null,
   "metadata": {},
   "outputs": [],
   "source": []
  }
 ],
 "metadata": {
  "hide_input": false,
  "kernelspec": {
   "display_name": "Python 3",
   "language": "python",
   "name": "python3"
  },
  "language_info": {
   "codemirror_mode": {
    "name": "ipython",
    "version": 3
   },
   "file_extension": ".py",
   "mimetype": "text/x-python",
   "name": "python",
   "nbconvert_exporter": "python",
   "pygments_lexer": "ipython3",
   "version": "3.6.4"
  },
  "toc": {
   "base_numbering": 1,
   "nav_menu": {},
   "number_sections": true,
   "sideBar": true,
   "skip_h1_title": false,
   "title_cell": "Table of Contents",
   "title_sidebar": "Contents",
   "toc_cell": false,
   "toc_position": {},
   "toc_section_display": true,
   "toc_window_display": false
  }
 },
 "nbformat": 4,
 "nbformat_minor": 2
}
