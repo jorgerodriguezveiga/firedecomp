{
 "cells": [
  {
   "cell_type": "code",
   "execution_count": 7,
   "metadata": {},
   "outputs": [],
   "source": [
    "import firedecomp\n",
    "import time"
   ]
  },
  {
   "cell_type": "code",
   "execution_count": 8,
   "metadata": {},
   "outputs": [
    {
     "data": {
      "text/plain": [
       "+----------------------+\n",
       "| Num. Resources: 3    |\n",
       "| Num. Groups: 1       |\n",
       "| Num. Periods: 9      |\n",
       "+----------------------+"
      ]
     },
     "execution_count": 8,
     "metadata": {},
     "output_type": "execute_result"
    }
   ],
   "source": [
    "problem = firedecomp.data.examples.small_example(); problem\n",
    "#problem = firedecomp.data.examples.input_example(num_aircraft=4, ini_perimeter=80, random=False, seed=11); problem\n",
    "#problem = firedecomp.data.examples.input_example(num_aircraft=4, ini_perimeter=80, random=False, seed=11); problem\n",
    "# problem = firedecomp.data.examples.input_example(num_aircraft=2, ini_perimeter=50, random=False, seed=11); problem\n",
    "#problem = firedecomp.data.examples.input_example(num_aircraft=10, num_periods=40, ini_perimeter=200, random=False, seed=11); problem\n",
    "# problem = firedecomp.data.examples.input_example(num_aircraft=30, num_brigades=30, num_machines=30, num_periods=72, ini_perimeter=200, random=False, seed=1); problem"
   ]
  },
  {
   "cell_type": "markdown",
   "metadata": {},
   "source": [
    "# GUROBI"
   ]
  },
  {
   "cell_type": "code",
   "execution_count": 9,
   "metadata": {},
   "outputs": [
    {
     "name": "stdout",
     "output_type": "stream",
     "text": [
      "713.3333333333333\n",
      "0.05994439125061035\n"
     ]
    }
   ],
   "source": [
    "time1=time.time()\n",
    "solution = problem.solve(solver_options={'OutputFlag': 0, 'LogToConsole': 0})\n",
    "print(solution.model.getObjective().getValue())\n",
    "print(time.time()-time1)"
   ]
  },
  {
   "cell_type": "markdown",
   "metadata": {},
   "source": [
    "## Análisis de los resultados"
   ]
  },
  {
   "cell_type": "code",
   "execution_count": 10,
   "metadata": {},
   "outputs": [
    {
     "name": "stdout",
     "output_type": "stream",
     "text": [
      "713.3333333333334\n"
     ]
    }
   ],
   "source": [
    "print(problem.get_cost())"
   ]
  },
  {
   "cell_type": "code",
   "execution_count": 11,
   "metadata": {
    "scrolled": false
   },
   "outputs": [
    {
     "data": {
      "application/vnd.plotly.v1+json": {
       "config": {
        "linkText": "Export to plot.ly",
        "plotlyServerURL": "https://plot.ly",
        "showLink": false
       },
       "data": [
        {
         "legendgroup": "work",
         "line": {
          "color": "rgb(200, 0, 0)"
         },
         "mode": "lines+markers",
         "name": "work",
         "type": "scatter",
         "uid": "19fa3ddc-abd4-43f9-b9a3-733592287251",
         "x": [
          0,
          1,
          null,
          null,
          null,
          null,
          null,
          null,
          null,
          null
         ],
         "y": [
          "aircraft_1",
          "aircraft_1",
          "aircraft_1",
          "aircraft_1",
          "aircraft_1",
          "aircraft_1",
          "aircraft_1",
          "aircraft_1",
          "aircraft_1",
          "aircraft_1"
         ]
        },
        {
         "legendgroup": "work",
         "line": {
          "color": "rgb(200, 0, 0)"
         },
         "mode": "lines+markers",
         "name": "work",
         "showlegend": false,
         "type": "scatter",
         "uid": "7f6963c3-7962-43cc-a968-e0e2971df365",
         "x": [
          null,
          null,
          2,
          3,
          4,
          5,
          6,
          7,
          8,
          null
         ],
         "y": [
          "aircraft_2",
          "aircraft_2",
          "aircraft_2",
          "aircraft_2",
          "aircraft_2",
          "aircraft_2",
          "aircraft_2",
          "aircraft_2",
          "aircraft_2",
          "aircraft_2"
         ]
        },
        {
         "legendgroup": "work",
         "line": {
          "color": "rgb(200, 0, 0)"
         },
         "mode": "lines+markers",
         "name": "work",
         "showlegend": false,
         "type": "scatter",
         "uid": "2a9da123-b854-4e7f-bda3-c5d508799533",
         "x": [
          null,
          null,
          null,
          null,
          null,
          5,
          6,
          7,
          8,
          null
         ],
         "y": [
          "aircraft_3",
          "aircraft_3",
          "aircraft_3",
          "aircraft_3",
          "aircraft_3",
          "aircraft_3",
          "aircraft_3",
          "aircraft_3",
          "aircraft_3",
          "aircraft_3"
         ]
        },
        {
         "legendgroup": "rest",
         "line": {
          "color": "rgb(0, 200, 0)",
          "dash": "dash"
         },
         "mode": "lines+markers",
         "name": "rest",
         "showlegend": false,
         "type": "scatter",
         "uid": "7ae5301f-5c26-486d-8160-45b9f32e6cd5",
         "x": [
          0,
          1,
          2,
          3,
          4,
          null,
          null,
          null,
          null,
          null
         ],
         "y": [
          "aircraft_3",
          "aircraft_3",
          "aircraft_3",
          "aircraft_3",
          "aircraft_3",
          "aircraft_3",
          "aircraft_3",
          "aircraft_3",
          "aircraft_3",
          "aircraft_3"
         ]
        },
        {
         "legendgroup": "travel",
         "line": {
          "color": "rgb(0, 0, 200)",
          "dash": "dot"
         },
         "mode": "lines+markers",
         "name": "travel",
         "type": "scatter",
         "uid": "1ad35177-d274-437a-9d2e-ac00329a8eae",
         "x": [
          null,
          1,
          2,
          null,
          null,
          null,
          null,
          null,
          null,
          null
         ],
         "y": [
          "aircraft_1",
          "aircraft_1",
          "aircraft_1",
          "aircraft_1",
          "aircraft_1",
          "aircraft_1",
          "aircraft_1",
          "aircraft_1",
          "aircraft_1",
          "aircraft_1"
         ]
        },
        {
         "legendgroup": "travel",
         "line": {
          "color": "rgb(0, 0, 200)",
          "dash": "dot"
         },
         "mode": "lines+markers",
         "name": "travel",
         "showlegend": false,
         "type": "scatter",
         "uid": "cb155445-6f7f-4273-8ea2-345baad5b6ef",
         "x": [
          0,
          1,
          2,
          null,
          null,
          null,
          null,
          null,
          8,
          9
         ],
         "y": [
          "aircraft_2",
          "aircraft_2",
          "aircraft_2",
          "aircraft_2",
          "aircraft_2",
          "aircraft_2",
          "aircraft_2",
          "aircraft_2",
          "aircraft_2",
          "aircraft_2"
         ]
        },
        {
         "legendgroup": "travel",
         "line": {
          "color": "rgb(0, 0, 200)",
          "dash": "dot"
         },
         "mode": "lines+markers",
         "name": "travel",
         "showlegend": false,
         "type": "scatter",
         "uid": "0d941c40-8318-41e5-8ecb-8e98cc096b3f",
         "x": [
          null,
          null,
          null,
          null,
          4,
          5,
          null,
          null,
          8,
          9
         ],
         "y": [
          "aircraft_3",
          "aircraft_3",
          "aircraft_3",
          "aircraft_3",
          "aircraft_3",
          "aircraft_3",
          "aircraft_3",
          "aircraft_3",
          "aircraft_3",
          "aircraft_3"
         ]
        }
       ],
       "layout": {
        "title": {
         "text": "Resources Scheduling"
        },
        "xaxis": {
         "title": {
          "text": "Periods"
         }
        },
        "yaxis": {
         "title": {
          "text": "Resources"
         }
        }
       }
      },
      "text/html": [
       "<div id=\"750ec2c9-725a-4a42-83d3-0ce664a8615d\" style=\"height: 525px; width: 100%;\" class=\"plotly-graph-div\"></div><script type=\"text/javascript\">require([\"plotly\"], function(Plotly) { window.PLOTLYENV=window.PLOTLYENV || {};window.PLOTLYENV.BASE_URL=\"https://plot.ly\";Plotly.newPlot(\"750ec2c9-725a-4a42-83d3-0ce664a8615d\", [{\"legendgroup\": \"work\", \"line\": {\"color\": \"rgb(200, 0, 0)\"}, \"mode\": \"lines+markers\", \"name\": \"work\", \"x\": [0, 1, null, null, null, null, null, null, null, null], \"y\": [\"aircraft_1\", \"aircraft_1\", \"aircraft_1\", \"aircraft_1\", \"aircraft_1\", \"aircraft_1\", \"aircraft_1\", \"aircraft_1\", \"aircraft_1\", \"aircraft_1\"], \"type\": \"scatter\", \"uid\": \"ff305a32-7f80-4a7c-a3de-b323777001dc\"}, {\"legendgroup\": \"work\", \"line\": {\"color\": \"rgb(200, 0, 0)\"}, \"mode\": \"lines+markers\", \"name\": \"work\", \"showlegend\": false, \"x\": [null, null, 2, 3, 4, 5, 6, 7, 8, null], \"y\": [\"aircraft_2\", \"aircraft_2\", \"aircraft_2\", \"aircraft_2\", \"aircraft_2\", \"aircraft_2\", \"aircraft_2\", \"aircraft_2\", \"aircraft_2\", \"aircraft_2\"], \"type\": \"scatter\", \"uid\": \"09f9c43a-15b5-4910-a815-77fcab890644\"}, {\"legendgroup\": \"work\", \"line\": {\"color\": \"rgb(200, 0, 0)\"}, \"mode\": \"lines+markers\", \"name\": \"work\", \"showlegend\": false, \"x\": [null, null, null, null, null, 5, 6, 7, 8, null], \"y\": [\"aircraft_3\", \"aircraft_3\", \"aircraft_3\", \"aircraft_3\", \"aircraft_3\", \"aircraft_3\", \"aircraft_3\", \"aircraft_3\", \"aircraft_3\", \"aircraft_3\"], \"type\": \"scatter\", \"uid\": \"e3af1303-7970-4b75-9041-ffdd47a338a5\"}, {\"legendgroup\": \"rest\", \"line\": {\"color\": \"rgb(0, 200, 0)\", \"dash\": \"dash\"}, \"mode\": \"lines+markers\", \"name\": \"rest\", \"showlegend\": false, \"x\": [0, 1, 2, 3, 4, null, null, null, null, null], \"y\": [\"aircraft_3\", \"aircraft_3\", \"aircraft_3\", \"aircraft_3\", \"aircraft_3\", \"aircraft_3\", \"aircraft_3\", \"aircraft_3\", \"aircraft_3\", \"aircraft_3\"], \"type\": \"scatter\", \"uid\": \"a3c339a7-e3b4-40b8-9cf4-a6ddfc0c59bb\"}, {\"legendgroup\": \"travel\", \"line\": {\"color\": \"rgb(0, 0, 200)\", \"dash\": \"dot\"}, \"mode\": \"lines+markers\", \"name\": \"travel\", \"x\": [null, 1, 2, null, null, null, null, null, null, null], \"y\": [\"aircraft_1\", \"aircraft_1\", \"aircraft_1\", \"aircraft_1\", \"aircraft_1\", \"aircraft_1\", \"aircraft_1\", \"aircraft_1\", \"aircraft_1\", \"aircraft_1\"], \"type\": \"scatter\", \"uid\": \"1f2c795a-e5d7-41e3-8716-d86d54953328\"}, {\"legendgroup\": \"travel\", \"line\": {\"color\": \"rgb(0, 0, 200)\", \"dash\": \"dot\"}, \"mode\": \"lines+markers\", \"name\": \"travel\", \"showlegend\": false, \"x\": [0, 1, 2, null, null, null, null, null, 8, 9], \"y\": [\"aircraft_2\", \"aircraft_2\", \"aircraft_2\", \"aircraft_2\", \"aircraft_2\", \"aircraft_2\", \"aircraft_2\", \"aircraft_2\", \"aircraft_2\", \"aircraft_2\"], \"type\": \"scatter\", \"uid\": \"b50190de-cbc3-4e86-8847-bb6a3be699ec\"}, {\"legendgroup\": \"travel\", \"line\": {\"color\": \"rgb(0, 0, 200)\", \"dash\": \"dot\"}, \"mode\": \"lines+markers\", \"name\": \"travel\", \"showlegend\": false, \"x\": [null, null, null, null, 4, 5, null, null, 8, 9], \"y\": [\"aircraft_3\", \"aircraft_3\", \"aircraft_3\", \"aircraft_3\", \"aircraft_3\", \"aircraft_3\", \"aircraft_3\", \"aircraft_3\", \"aircraft_3\", \"aircraft_3\"], \"type\": \"scatter\", \"uid\": \"8bac9797-0a60-4b73-bcc4-48caf30d466d\"}], {\"title\": {\"text\": \"Resources Scheduling\"}, \"xaxis\": {\"title\": {\"text\": \"Periods\"}}, \"yaxis\": {\"title\": {\"text\": \"Resources\"}}}, {\"showLink\": false, \"linkText\": \"Export to plot.ly\", \"plotlyServerURL\": \"https://plot.ly\"})});</script><script type=\"text/javascript\">window.addEventListener(\"resize\", function(){window._Plotly.Plots.resize(document.getElementById(\"750ec2c9-725a-4a42-83d3-0ce664a8615d\"));});</script>"
      ],
      "text/vnd.plotly.v1+html": [
       "<div id=\"750ec2c9-725a-4a42-83d3-0ce664a8615d\" style=\"height: 525px; width: 100%;\" class=\"plotly-graph-div\"></div><script type=\"text/javascript\">require([\"plotly\"], function(Plotly) { window.PLOTLYENV=window.PLOTLYENV || {};window.PLOTLYENV.BASE_URL=\"https://plot.ly\";Plotly.newPlot(\"750ec2c9-725a-4a42-83d3-0ce664a8615d\", [{\"legendgroup\": \"work\", \"line\": {\"color\": \"rgb(200, 0, 0)\"}, \"mode\": \"lines+markers\", \"name\": \"work\", \"x\": [0, 1, null, null, null, null, null, null, null, null], \"y\": [\"aircraft_1\", \"aircraft_1\", \"aircraft_1\", \"aircraft_1\", \"aircraft_1\", \"aircraft_1\", \"aircraft_1\", \"aircraft_1\", \"aircraft_1\", \"aircraft_1\"], \"type\": \"scatter\", \"uid\": \"ff305a32-7f80-4a7c-a3de-b323777001dc\"}, {\"legendgroup\": \"work\", \"line\": {\"color\": \"rgb(200, 0, 0)\"}, \"mode\": \"lines+markers\", \"name\": \"work\", \"showlegend\": false, \"x\": [null, null, 2, 3, 4, 5, 6, 7, 8, null], \"y\": [\"aircraft_2\", \"aircraft_2\", \"aircraft_2\", \"aircraft_2\", \"aircraft_2\", \"aircraft_2\", \"aircraft_2\", \"aircraft_2\", \"aircraft_2\", \"aircraft_2\"], \"type\": \"scatter\", \"uid\": \"09f9c43a-15b5-4910-a815-77fcab890644\"}, {\"legendgroup\": \"work\", \"line\": {\"color\": \"rgb(200, 0, 0)\"}, \"mode\": \"lines+markers\", \"name\": \"work\", \"showlegend\": false, \"x\": [null, null, null, null, null, 5, 6, 7, 8, null], \"y\": [\"aircraft_3\", \"aircraft_3\", \"aircraft_3\", \"aircraft_3\", \"aircraft_3\", \"aircraft_3\", \"aircraft_3\", \"aircraft_3\", \"aircraft_3\", \"aircraft_3\"], \"type\": \"scatter\", \"uid\": \"e3af1303-7970-4b75-9041-ffdd47a338a5\"}, {\"legendgroup\": \"rest\", \"line\": {\"color\": \"rgb(0, 200, 0)\", \"dash\": \"dash\"}, \"mode\": \"lines+markers\", \"name\": \"rest\", \"showlegend\": false, \"x\": [0, 1, 2, 3, 4, null, null, null, null, null], \"y\": [\"aircraft_3\", \"aircraft_3\", \"aircraft_3\", \"aircraft_3\", \"aircraft_3\", \"aircraft_3\", \"aircraft_3\", \"aircraft_3\", \"aircraft_3\", \"aircraft_3\"], \"type\": \"scatter\", \"uid\": \"a3c339a7-e3b4-40b8-9cf4-a6ddfc0c59bb\"}, {\"legendgroup\": \"travel\", \"line\": {\"color\": \"rgb(0, 0, 200)\", \"dash\": \"dot\"}, \"mode\": \"lines+markers\", \"name\": \"travel\", \"x\": [null, 1, 2, null, null, null, null, null, null, null], \"y\": [\"aircraft_1\", \"aircraft_1\", \"aircraft_1\", \"aircraft_1\", \"aircraft_1\", \"aircraft_1\", \"aircraft_1\", \"aircraft_1\", \"aircraft_1\", \"aircraft_1\"], \"type\": \"scatter\", \"uid\": \"1f2c795a-e5d7-41e3-8716-d86d54953328\"}, {\"legendgroup\": \"travel\", \"line\": {\"color\": \"rgb(0, 0, 200)\", \"dash\": \"dot\"}, \"mode\": \"lines+markers\", \"name\": \"travel\", \"showlegend\": false, \"x\": [0, 1, 2, null, null, null, null, null, 8, 9], \"y\": [\"aircraft_2\", \"aircraft_2\", \"aircraft_2\", \"aircraft_2\", \"aircraft_2\", \"aircraft_2\", \"aircraft_2\", \"aircraft_2\", \"aircraft_2\", \"aircraft_2\"], \"type\": \"scatter\", \"uid\": \"b50190de-cbc3-4e86-8847-bb6a3be699ec\"}, {\"legendgroup\": \"travel\", \"line\": {\"color\": \"rgb(0, 0, 200)\", \"dash\": \"dot\"}, \"mode\": \"lines+markers\", \"name\": \"travel\", \"showlegend\": false, \"x\": [null, null, null, null, 4, 5, null, null, 8, 9], \"y\": [\"aircraft_3\", \"aircraft_3\", \"aircraft_3\", \"aircraft_3\", \"aircraft_3\", \"aircraft_3\", \"aircraft_3\", \"aircraft_3\", \"aircraft_3\", \"aircraft_3\"], \"type\": \"scatter\", \"uid\": \"8bac9797-0a60-4b73-bcc4-48caf30d466d\"}], {\"title\": {\"text\": \"Resources Scheduling\"}, \"xaxis\": {\"title\": {\"text\": \"Periods\"}}, \"yaxis\": {\"title\": {\"text\": \"Resources\"}}}, {\"showLink\": false, \"linkText\": \"Export to plot.ly\", \"plotlyServerURL\": \"https://plot.ly\"})});</script><script type=\"text/javascript\">window.addEventListener(\"resize\", function(){window._Plotly.Plots.resize(document.getElementById(\"750ec2c9-725a-4a42-83d3-0ce664a8615d\"));});</script>"
      ]
     },
     "metadata": {},
     "output_type": "display_data"
    }
   ],
   "source": [
    "problem.plot(info='scheduling')"
   ]
  },
  {
   "cell_type": "code",
   "execution_count": 12,
   "metadata": {},
   "outputs": [
    {
     "data": {
      "application/vnd.plotly.v1+json": {
       "config": {
        "linkText": "Export to plot.ly",
        "plotlyServerURL": "https://plot.ly",
        "showLink": false
       },
       "data": [
        {
         "line": {
          "shape": "vh"
         },
         "mode": "lines+markers",
         "name": "perimeter",
         "type": "scatter",
         "uid": "bad2255e-a121-43d0-920e-a7b364cfda8e",
         "x": [
          0,
          1,
          2,
          3,
          4,
          5,
          6,
          7,
          8,
          9,
          10,
          11,
          12,
          13,
          14,
          15,
          16,
          17,
          18,
          19,
          20
         ],
         "y": [
          80,
          80,
          82.67,
          85.60000000000001,
          88.52000000000001,
          91.49000000000001,
          94.50000000000001,
          97.63000000000001,
          100.67000000000002,
          103.80000000000001,
          107.21000000000001,
          110.69000000000001,
          113.82000000000001,
          117.36000000000001,
          121.20000000000002,
          124.62000000000002,
          128.22000000000003,
          131.41000000000003,
          134.96000000000004,
          138.04000000000005,
          138.04000000000005
         ]
        },
        {
         "line": {
          "shape": "vh"
         },
         "mode": "lines+markers",
         "name": "performance",
         "type": "scatter",
         "uid": "3641361d-712e-40d1-a218-e67d8fbbddd5",
         "x": [
          0,
          1,
          2,
          3,
          4,
          5,
          6,
          7,
          8,
          9,
          10,
          11,
          12,
          13,
          14,
          15,
          16,
          17,
          18,
          19,
          20
         ],
         "y": [
          0,
          0,
          0,
          3.7,
          8.200000000000001,
          12.700000000000003,
          18.200000000000003,
          23.700000000000003,
          31.800000000000004,
          39.900000000000006,
          49.60000000000001,
          59.60000000000001,
          67.2,
          76.80000000000001,
          86.4,
          96,
          105.6,
          115.19999999999999,
          124.79999999999998,
          133.39999999999998,
          133.39999999999998
         ]
        }
       ],
       "layout": {
        "title": {
         "text": "Wildfire contention"
        },
        "xaxis": {
         "title": {
          "text": "Periods"
         }
        },
        "yaxis": {
         "title": {
          "text": "Perimeter (km)"
         }
        }
       }
      },
      "text/html": [
       "<div id=\"7c65a304-2445-4c12-ba63-7f46cfbde359\" style=\"height: 525px; width: 100%;\" class=\"plotly-graph-div\"></div><script type=\"text/javascript\">require([\"plotly\"], function(Plotly) { window.PLOTLYENV=window.PLOTLYENV || {};window.PLOTLYENV.BASE_URL=\"https://plot.ly\";Plotly.newPlot(\"7c65a304-2445-4c12-ba63-7f46cfbde359\", [{\"line\": {\"shape\": \"vh\"}, \"mode\": \"lines+markers\", \"name\": \"perimeter\", \"x\": [0, 1, 2, 3, 4, 5, 6, 7, 8, 9, 10, 11, 12, 13, 14, 15, 16, 17, 18, 19, 20], \"y\": [80.0, 80.0, 82.67, 85.60000000000001, 88.52000000000001, 91.49000000000001, 94.50000000000001, 97.63000000000001, 100.67000000000002, 103.80000000000001, 107.21000000000001, 110.69000000000001, 113.82000000000001, 117.36000000000001, 121.20000000000002, 124.62000000000002, 128.22000000000003, 131.41000000000003, 134.96000000000004, 138.04000000000005, 138.04000000000005], \"type\": \"scatter\", \"uid\": \"7a83a90e-0b2b-4e20-bb4a-1896615ce19a\"}, {\"line\": {\"shape\": \"vh\"}, \"mode\": \"lines+markers\", \"name\": \"performance\", \"x\": [0, 1, 2, 3, 4, 5, 6, 7, 8, 9, 10, 11, 12, 13, 14, 15, 16, 17, 18, 19, 20], \"y\": [0.0, 0.0, 0.0, 3.7, 8.200000000000001, 12.700000000000003, 18.200000000000003, 23.700000000000003, 31.800000000000004, 39.900000000000006, 49.60000000000001, 59.60000000000001, 67.2, 76.80000000000001, 86.4, 96.0, 105.6, 115.19999999999999, 124.79999999999998, 133.39999999999998, 133.39999999999998], \"type\": \"scatter\", \"uid\": \"bb28109e-fb5a-4de1-a26d-488e18520e9c\"}], {\"title\": {\"text\": \"Wildfire contention\"}, \"xaxis\": {\"title\": {\"text\": \"Periods\"}}, \"yaxis\": {\"title\": {\"text\": \"Perimeter (km)\"}}}, {\"showLink\": false, \"linkText\": \"Export to plot.ly\", \"plotlyServerURL\": \"https://plot.ly\"})});</script><script type=\"text/javascript\">window.addEventListener(\"resize\", function(){window._Plotly.Plots.resize(document.getElementById(\"7c65a304-2445-4c12-ba63-7f46cfbde359\"));});</script>"
      ],
      "text/vnd.plotly.v1+html": [
       "<div id=\"7c65a304-2445-4c12-ba63-7f46cfbde359\" style=\"height: 525px; width: 100%;\" class=\"plotly-graph-div\"></div><script type=\"text/javascript\">require([\"plotly\"], function(Plotly) { window.PLOTLYENV=window.PLOTLYENV || {};window.PLOTLYENV.BASE_URL=\"https://plot.ly\";Plotly.newPlot(\"7c65a304-2445-4c12-ba63-7f46cfbde359\", [{\"line\": {\"shape\": \"vh\"}, \"mode\": \"lines+markers\", \"name\": \"perimeter\", \"x\": [0, 1, 2, 3, 4, 5, 6, 7, 8, 9, 10, 11, 12, 13, 14, 15, 16, 17, 18, 19, 20], \"y\": [80.0, 80.0, 82.67, 85.60000000000001, 88.52000000000001, 91.49000000000001, 94.50000000000001, 97.63000000000001, 100.67000000000002, 103.80000000000001, 107.21000000000001, 110.69000000000001, 113.82000000000001, 117.36000000000001, 121.20000000000002, 124.62000000000002, 128.22000000000003, 131.41000000000003, 134.96000000000004, 138.04000000000005, 138.04000000000005], \"type\": \"scatter\", \"uid\": \"7a83a90e-0b2b-4e20-bb4a-1896615ce19a\"}, {\"line\": {\"shape\": \"vh\"}, \"mode\": \"lines+markers\", \"name\": \"performance\", \"x\": [0, 1, 2, 3, 4, 5, 6, 7, 8, 9, 10, 11, 12, 13, 14, 15, 16, 17, 18, 19, 20], \"y\": [0.0, 0.0, 0.0, 3.7, 8.200000000000001, 12.700000000000003, 18.200000000000003, 23.700000000000003, 31.800000000000004, 39.900000000000006, 49.60000000000001, 59.60000000000001, 67.2, 76.80000000000001, 86.4, 96.0, 105.6, 115.19999999999999, 124.79999999999998, 133.39999999999998, 133.39999999999998], \"type\": \"scatter\", \"uid\": \"bb28109e-fb5a-4de1-a26d-488e18520e9c\"}], {\"title\": {\"text\": \"Wildfire contention\"}, \"xaxis\": {\"title\": {\"text\": \"Periods\"}}, \"yaxis\": {\"title\": {\"text\": \"Perimeter (km)\"}}}, {\"showLink\": false, \"linkText\": \"Export to plot.ly\", \"plotlyServerURL\": \"https://plot.ly\"})});</script><script type=\"text/javascript\">window.addEventListener(\"resize\", function(){window._Plotly.Plots.resize(document.getElementById(\"7c65a304-2445-4c12-ba63-7f46cfbde359\"));});</script>"
      ]
     },
     "metadata": {},
     "output_type": "display_data"
    }
   ],
   "source": [
    "problem.plot(info='contention')"
   ]
  },
  {
   "cell_type": "markdown",
   "metadata": {},
   "source": [
    "# Benders"
   ]
  },
  {
   "cell_type": "code",
   "execution_count": 3,
   "metadata": {},
   "outputs": [
    {
     "ename": "NameError",
     "evalue": "name 'time' is not defined",
     "output_type": "error",
     "traceback": [
      "\u001b[1;31m---------------------------------------------------------------------------\u001b[0m",
      "\u001b[1;31mNameError\u001b[0m                                 Traceback (most recent call last)",
      "\u001b[1;32m<ipython-input-3-14b0707ee52f>\u001b[0m in \u001b[0;36m<module>\u001b[1;34m()\u001b[0m\n\u001b[1;32m----> 1\u001b[1;33m \u001b[0mtime1\u001b[0m\u001b[1;33m=\u001b[0m\u001b[0mtime\u001b[0m\u001b[1;33m.\u001b[0m\u001b[0mtime\u001b[0m\u001b[1;33m(\u001b[0m\u001b[1;33m)\u001b[0m\u001b[1;33m\u001b[0m\u001b[0m\n\u001b[0m\u001b[0;32m      2\u001b[0m model = problem.solve(\n\u001b[0;32m      3\u001b[0m     \u001b[0mmethod\u001b[0m\u001b[1;33m=\u001b[0m\u001b[1;34m'benders'\u001b[0m\u001b[1;33m,\u001b[0m\u001b[1;33m\u001b[0m\u001b[0m\n\u001b[0;32m      4\u001b[0m     method_options={\n\u001b[0;32m      5\u001b[0m         \u001b[1;31m# 'solver_options_master': {'MIPGapAbs': 0, 'MIPGap': 0, 'OutputFlag': 0, 'LogToConsole': 0},\u001b[0m\u001b[1;33m\u001b[0m\u001b[1;33m\u001b[0m\u001b[0m\n",
      "\u001b[1;31mNameError\u001b[0m: name 'time' is not defined"
     ]
    }
   ],
   "source": [
    "time1=time.time()\n",
    "model = problem.solve(\n",
    "    method='benders',\n",
    "    method_options={\n",
    "        # 'solver_options_master': {'MIPGapAbs': 0, 'MIPGap': 0, 'OutputFlag': 0, 'LogToConsole': 0},\n",
    "        'mip_gap_obj': 0, \n",
    "        'compute_feas_cuts':False, \n",
    "        'n_start_info': 20,\n",
    "        'max_iters': 100,\n",
    "        'start_period': 20,\n",
    "        'step_period': 6\n",
    "    }, log_level='benders')\n",
    "print(time.time()-time1)"
   ]
  },
  {
   "cell_type": "code",
   "execution_count": null,
   "metadata": {},
   "outputs": [],
   "source": [
    "model.problem_data.resources.get_info('select')"
   ]
  },
  {
   "cell_type": "markdown",
   "metadata": {},
   "source": [
    "## Análisis de los resultados"
   ]
  },
  {
   "cell_type": "code",
   "execution_count": null,
   "metadata": {},
   "outputs": [],
   "source": [
    "problem.resources_wildfire.get_info('work')"
   ]
  },
  {
   "cell_type": "code",
   "execution_count": null,
   "metadata": {},
   "outputs": [],
   "source": [
    "print(problem.get_cost())"
   ]
  },
  {
   "cell_type": "code",
   "execution_count": null,
   "metadata": {},
   "outputs": [],
   "source": [
    "problem.plot(info='scheduling')"
   ]
  },
  {
   "cell_type": "code",
   "execution_count": null,
   "metadata": {},
   "outputs": [],
   "source": [
    "problem.plot(info='contention')"
   ]
  },
  {
   "cell_type": "markdown",
   "metadata": {},
   "source": [
    "# Análisis de soluciones infactibles"
   ]
  },
  {
   "cell_type": "markdown",
   "metadata": {},
   "source": [
    "Útil para analizar soluciones infactibles:"
   ]
  },
  {
   "cell_type": "code",
   "execution_count": null,
   "metadata": {},
   "outputs": [],
   "source": [
    "# solution.variables.cr\n",
    "# solution.model.computeIIS()\n",
    "# for c in solution.model.getConstrs():\n",
    "#     if c.IISConstr > 0:\n",
    "#         print(c.ConstrName)\n",
    "#         print(c.IISConstr)\n",
    "# solution.model.write(\"model.ilp\")"
   ]
  }
 ],
 "metadata": {
  "hide_input": false,
  "kernelspec": {
   "display_name": "Python 3",
   "language": "python",
   "name": "python3"
  },
  "language_info": {
   "codemirror_mode": {
    "name": "ipython",
    "version": 3
   },
   "file_extension": ".py",
   "mimetype": "text/x-python",
   "name": "python",
   "nbconvert_exporter": "python",
   "pygments_lexer": "ipython3",
   "version": "3.7.2"
  },
  "toc": {
   "base_numbering": 1,
   "nav_menu": {},
   "number_sections": true,
   "sideBar": true,
   "skip_h1_title": false,
   "title_cell": "Table of Contents",
   "title_sidebar": "Contents",
   "toc_cell": false,
   "toc_position": {},
   "toc_section_display": true,
   "toc_window_display": false
  }
 },
 "nbformat": 4,
 "nbformat_minor": 2
}
