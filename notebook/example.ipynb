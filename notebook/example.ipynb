{
 "cells": [
  {
   "cell_type": "code",
   "execution_count": 1,
   "metadata": {},
   "outputs": [
    {
     "ename": "ModuleNotFoundError",
     "evalue": "No module named 'firedecomp'",
     "output_type": "error",
     "traceback": [
      "\u001b[0;31m-----------------------------------------------------------------\u001b[0m",
      "\u001b[0;31mModuleNotFoundError\u001b[0m             Traceback (most recent call last)",
      "\u001b[0;32m<ipython-input-1-748e0349c929>\u001b[0m in \u001b[0;36m<module>\u001b[0;34m\u001b[0m\n\u001b[0;32m----> 1\u001b[0;31m \u001b[0;32mimport\u001b[0m \u001b[0mfiredecomp\u001b[0m\u001b[0;34m\u001b[0m\u001b[0;34m\u001b[0m\u001b[0m\n\u001b[0m\u001b[1;32m      2\u001b[0m \u001b[0;32mimport\u001b[0m \u001b[0mtime\u001b[0m\u001b[0;34m\u001b[0m\u001b[0;34m\u001b[0m\u001b[0m\n\u001b[1;32m      3\u001b[0m \u001b[0;32mimport\u001b[0m \u001b[0mplotly\u001b[0m\u001b[0;34m\u001b[0m\u001b[0;34m\u001b[0m\u001b[0m\n\u001b[1;32m      4\u001b[0m \u001b[0mplotly\u001b[0m\u001b[0;34m.\u001b[0m\u001b[0moffline\u001b[0m\u001b[0;34m.\u001b[0m\u001b[0minit_notebook_mode\u001b[0m\u001b[0;34m(\u001b[0m\u001b[0;34m)\u001b[0m\u001b[0;34m\u001b[0m\u001b[0;34m\u001b[0m\u001b[0m\n",
      "\u001b[0;31mModuleNotFoundError\u001b[0m: No module named 'firedecomp'"
     ]
    }
   ],
   "source": [
    "import firedecomp\n",
    "import time\n",
    "import plotly\n",
    "plotly.offline.init_notebook_mode()"
   ]
  },
  {
   "cell_type": "code",
   "execution_count": 2,
   "metadata": {},
   "outputs": [
    {
     "ename": "NameError",
     "evalue": "name 'firedecomp' is not defined",
     "output_type": "error",
     "traceback": [
      "\u001b[0;31m-----------------------------------------------------------------\u001b[0m",
      "\u001b[0;31mNameError\u001b[0m                       Traceback (most recent call last)",
      "\u001b[0;32m<ipython-input-2-b9485ada4a30>\u001b[0m in \u001b[0;36m<module>\u001b[0;34m\u001b[0m\n\u001b[1;32m      6\u001b[0m \u001b[0;31m# problem = firedecomp.data.examples.input_example(seed=3, num_brigades=5, num_aircraft=20, num_machines=5, num_periods=60, random=False); problem\u001b[0m\u001b[0;34m\u001b[0m\u001b[0;34m\u001b[0m\u001b[0;34m\u001b[0m\u001b[0m\n\u001b[1;32m      7\u001b[0m \u001b[0;31m# problem = firedecomp.data.examples.input_example(num_aircraft=30, num_brigades=30, num_machines=30, num_periods=72, ini_perimeter=200, random=False, seed=1); problem\u001b[0m\u001b[0;34m\u001b[0m\u001b[0;34m\u001b[0m\u001b[0;34m\u001b[0m\u001b[0m\n\u001b[0;32m----> 8\u001b[0;31m \u001b[0mproblem\u001b[0m \u001b[0;34m=\u001b[0m \u001b[0mfiredecomp\u001b[0m\u001b[0;34m.\u001b[0m\u001b[0mdata\u001b[0m\u001b[0;34m.\u001b[0m\u001b[0mexamples\u001b[0m\u001b[0;34m.\u001b[0m\u001b[0minput_example\u001b[0m\u001b[0;34m(\u001b[0m\u001b[0mnum_aircraft\u001b[0m\u001b[0;34m=\u001b[0m\u001b[0;36m4\u001b[0m\u001b[0;34m,\u001b[0m \u001b[0mnum_brigades\u001b[0m\u001b[0;34m=\u001b[0m\u001b[0;36m4\u001b[0m\u001b[0;34m,\u001b[0m \u001b[0mnum_machines\u001b[0m\u001b[0;34m=\u001b[0m\u001b[0;36m4\u001b[0m\u001b[0;34m,\u001b[0m \u001b[0mnum_periods\u001b[0m\u001b[0;34m=\u001b[0m\u001b[0;36m15\u001b[0m\u001b[0;34m,\u001b[0m \u001b[0mseed\u001b[0m\u001b[0;34m=\u001b[0m\u001b[0;36m3\u001b[0m\u001b[0;34m)\u001b[0m\u001b[0;34m;\u001b[0m \u001b[0mproblem\u001b[0m\u001b[0;34m\u001b[0m\u001b[0;34m\u001b[0m\u001b[0m\n\u001b[0m",
      "\u001b[0;31mNameError\u001b[0m: name 'firedecomp' is not defined"
     ]
    }
   ],
   "source": [
    "# problem = firedecomp.data.examples.small_example(); problem\n",
    "# problem = firedecomp.data.examples.input_example(num_aircraft=3, num_brigades=1, num_machines=1, num_periods=10, random=False, seed=11); problem\n",
    "# problem = firedecomp.data.examples.input_example(num_aircraft=2, random=False, seed=11); problem\n",
    "# problem = firedecomp.data.examples.input_example(seed=47, num_brigades=20, num_aircraft=20, num_machines=5, num_periods=40, random=False); problem\n",
    "# problem = firedecomp.data.examples.input_example(seed=48, num_brigades=5, num_aircraft=5, num_machines=5, num_periods=30, random=False); problem\n",
    "# problem = firedecomp.data.examples.input_example(seed=3, num_brigades=5, num_aircraft=20, num_machines=5, num_periods=60, random=False); problem\n",
    "# problem = firedecomp.data.examples.input_example(num_aircraft=30, num_brigades=30, num_machines=30, num_periods=72, ini_perimeter=200, random=False, seed=1); problem\n",
    "problem = firedecomp.data.examples.input_example(num_aircraft=4, num_brigades=4, num_machines=4, num_periods=15, seed=3); problem"
   ]
  },
  {
   "cell_type": "markdown",
   "metadata": {},
   "source": [
    "# Benders"
   ]
  },
  {
   "cell_type": "code",
   "execution_count": 3,
   "metadata": {},
   "outputs": [
    {
     "name": "stdout",
     "output_type": "stream",
     "text": [
      "Academic license - for non-commercial use only\n",
      "-----------+------------+------------+------------+------------+-----------\n",
      "ITER       | SECONDS    | LB         | UB         | OPTI_CUT   | FEAS_CUT  \n",
      "-----------+------------+------------+------------+------------+-----------\n",
      "         1 |       2.38 | 1.0019E+07 |    -inf    |          6 |          0\n",
      "         2 |       4.38 | 1.0021E+07 | 1.0019E+07 |          8 |          0\n",
      "         3 |       8.42 | 1.0022E+07 | 1.0021E+07 |         10 |          0\n",
      "         4 |      13.18 | 1.0022E+07 | 1.0022E+07 |         12 |          0\n",
      "         5 |      15.03 | 1.0023E+07 | 1.0022E+07 |         13 |          0\n",
      "         6 |      20.77 | 1.0023E+07 | 1.0023E+07 |         15 |          0\n",
      "         7 |      27.75 | 1.0023E+07 | 1.0023E+07 |         17 |          0\n",
      "         8 |      34.39 | 1.0023E+07 | 1.0023E+07 |         18 |          0\n",
      "         9 |      38.65 | 1.0023E+07 | 1.0023E+07 |         19 |          0\n",
      "        10 |      40.34 | 1.0023E+07 | 1.0023E+07 |         19 |          0\n",
      "42.584924936294556\n"
     ]
    }
   ],
   "source": [
    "# import logging as log\n",
    "# log.basicConfig(level=log.ERROR)\n",
    "time1=time.time()\n",
    "model = problem.solve(method='benders', log_level='benders')\n",
    "print(time.time()-time1)"
   ]
  },
  {
   "cell_type": "markdown",
   "metadata": {},
   "source": [
    "## Análisis de los resultados"
   ]
  },
  {
   "cell_type": "code",
   "execution_count": 5,
   "metadata": {},
   "outputs": [
    {
     "data": {
      "text/plain": [
       "{}"
      ]
     },
     "execution_count": 5,
     "metadata": {},
     "output_type": "execute_result"
    }
   ],
   "source": [
    "problem.get_infeas_constraints()"
   ]
  },
  {
   "cell_type": "code",
   "execution_count": 6,
   "metadata": {},
   "outputs": [
    {
     "name": "stdout",
     "output_type": "stream",
     "text": [
      "10023010.146\n"
     ]
    }
   ],
   "source": [
    "benders_cost = problem.get_cost()\n",
    "print(benders_cost)"
   ]
  },
  {
   "cell_type": "code",
   "execution_count": 7,
   "metadata": {},
   "outputs": [
    {
     "data": {
      "application/vnd.plotly.v1+json": {
       "config": {
        "linkText": "Export to plot.ly",
        "plotlyServerURL": "https://plot.ly",
        "showLink": false
       },
       "data": [
        {
         "legendgroup": "travel",
         "line": {
          "color": "rgb(0, 0, 200)",
          "dash": "dot"
         },
         "mode": "lines+markers",
         "name": "travel",
         "showlegend": false,
         "type": "scatter",
         "x": [
          null,
          null,
          null,
          null,
          null,
          null,
          null,
          null,
          null,
          null,
          null,
          11,
          12,
          null,
          null,
          null
         ],
         "y": [
          "brigade_3",
          "brigade_3",
          "brigade_3",
          "brigade_3",
          "brigade_3",
          "brigade_3",
          "brigade_3",
          "brigade_3",
          "brigade_3",
          "brigade_3",
          "brigade_3",
          "brigade_3",
          "brigade_3",
          "brigade_3",
          "brigade_3",
          "brigade_3"
         ]
        },
        {
         "legendgroup": "travel",
         "line": {
          "color": "rgb(0, 0, 200)",
          "dash": "dot"
         },
         "mode": "lines+markers",
         "name": "travel",
         "showlegend": false,
         "type": "scatter",
         "x": [
          0,
          1,
          2,
          3,
          4,
          5,
          null,
          null,
          null,
          null,
          null,
          11,
          12,
          null,
          null,
          null
         ],
         "y": [
          "brigade_5",
          "brigade_5",
          "brigade_5",
          "brigade_5",
          "brigade_5",
          "brigade_5",
          "brigade_5",
          "brigade_5",
          "brigade_5",
          "brigade_5",
          "brigade_5",
          "brigade_5",
          "brigade_5",
          "brigade_5",
          "brigade_5",
          "brigade_5"
         ]
        },
        {
         "legendgroup": "travel",
         "line": {
          "color": "rgb(0, 0, 200)",
          "dash": "dot"
         },
         "mode": "lines+markers",
         "name": "travel",
         "type": "scatter",
         "x": [
          0,
          1,
          2,
          null,
          null,
          null,
          null,
          null,
          null,
          null,
          null,
          11,
          12,
          null,
          null,
          null
         ],
         "y": [
          "aircraft_3",
          "aircraft_3",
          "aircraft_3",
          "aircraft_3",
          "aircraft_3",
          "aircraft_3",
          "aircraft_3",
          "aircraft_3",
          "aircraft_3",
          "aircraft_3",
          "aircraft_3",
          "aircraft_3",
          "aircraft_3",
          "aircraft_3",
          "aircraft_3",
          "aircraft_3"
         ]
        },
        {
         "legendgroup": "travel",
         "line": {
          "color": "rgb(0, 0, 200)",
          "dash": "dot"
         },
         "mode": "lines+markers",
         "name": "travel",
         "showlegend": false,
         "type": "scatter",
         "x": [
          0,
          1,
          2,
          3,
          4,
          null,
          null,
          null,
          null,
          null,
          null,
          11,
          12,
          null,
          null,
          null
         ],
         "y": [
          "aircraft_4",
          "aircraft_4",
          "aircraft_4",
          "aircraft_4",
          "aircraft_4",
          "aircraft_4",
          "aircraft_4",
          "aircraft_4",
          "aircraft_4",
          "aircraft_4",
          "aircraft_4",
          "aircraft_4",
          "aircraft_4",
          "aircraft_4",
          "aircraft_4",
          "aircraft_4"
         ]
        },
        {
         "legendgroup": "travel",
         "line": {
          "color": "rgb(0, 0, 200)",
          "dash": "dot"
         },
         "mode": "lines+markers",
         "name": "travel",
         "showlegend": false,
         "type": "scatter",
         "x": [
          0,
          1,
          2,
          null,
          null,
          null,
          null,
          null,
          null,
          null,
          null,
          11,
          12,
          null,
          null,
          null
         ],
         "y": [
          "aircraft_5",
          "aircraft_5",
          "aircraft_5",
          "aircraft_5",
          "aircraft_5",
          "aircraft_5",
          "aircraft_5",
          "aircraft_5",
          "aircraft_5",
          "aircraft_5",
          "aircraft_5",
          "aircraft_5",
          "aircraft_5",
          "aircraft_5",
          "aircraft_5",
          "aircraft_5"
         ]
        },
        {
         "legendgroup": "travel",
         "line": {
          "color": "rgb(0, 0, 200)",
          "dash": "dot"
         },
         "mode": "lines+markers",
         "name": "travel",
         "showlegend": false,
         "type": "scatter",
         "x": [
          null,
          null,
          null,
          null,
          null,
          5,
          6,
          7,
          8,
          null,
          10,
          11,
          null,
          null,
          null,
          null
         ],
         "y": [
          "aircraft_6",
          "aircraft_6",
          "aircraft_6",
          "aircraft_6",
          "aircraft_6",
          "aircraft_6",
          "aircraft_6",
          "aircraft_6",
          "aircraft_6",
          "aircraft_6",
          "aircraft_6",
          "aircraft_6",
          "aircraft_6",
          "aircraft_6",
          "aircraft_6",
          "aircraft_6"
         ]
        },
        {
         "legendgroup": "travel",
         "line": {
          "color": "rgb(0, 0, 200)",
          "dash": "dot"
         },
         "mode": "lines+markers",
         "name": "travel",
         "showlegend": false,
         "type": "scatter",
         "x": [
          0,
          1,
          2,
          3,
          4,
          5,
          6,
          7,
          8,
          null,
          null,
          11,
          12,
          null,
          null,
          null
         ],
         "y": [
          "machine_5",
          "machine_5",
          "machine_5",
          "machine_5",
          "machine_5",
          "machine_5",
          "machine_5",
          "machine_5",
          "machine_5",
          "machine_5",
          "machine_5",
          "machine_5",
          "machine_5",
          "machine_5",
          "machine_5",
          "machine_5"
         ]
        },
        {
         "legendgroup": "work",
         "line": {
          "color": "rgb(200, 0, 0)"
         },
         "mode": "lines+markers",
         "name": "work",
         "showlegend": false,
         "type": "scatter",
         "x": [
          0,
          1,
          2,
          3,
          4,
          5,
          6,
          7,
          8,
          9,
          10,
          11,
          null,
          null,
          null,
          null
         ],
         "y": [
          "brigade_3",
          "brigade_3",
          "brigade_3",
          "brigade_3",
          "brigade_3",
          "brigade_3",
          "brigade_3",
          "brigade_3",
          "brigade_3",
          "brigade_3",
          "brigade_3",
          "brigade_3",
          "brigade_3",
          "brigade_3",
          "brigade_3",
          "brigade_3"
         ]
        },
        {
         "legendgroup": "work",
         "line": {
          "color": "rgb(200, 0, 0)"
         },
         "mode": "lines+markers",
         "name": "work",
         "showlegend": false,
         "type": "scatter",
         "x": [
          null,
          null,
          null,
          null,
          null,
          5,
          6,
          7,
          8,
          9,
          10,
          11,
          null,
          null,
          null,
          null
         ],
         "y": [
          "brigade_5",
          "brigade_5",
          "brigade_5",
          "brigade_5",
          "brigade_5",
          "brigade_5",
          "brigade_5",
          "brigade_5",
          "brigade_5",
          "brigade_5",
          "brigade_5",
          "brigade_5",
          "brigade_5",
          "brigade_5",
          "brigade_5",
          "brigade_5"
         ]
        },
        {
         "legendgroup": "work",
         "line": {
          "color": "rgb(200, 0, 0)"
         },
         "mode": "lines+markers",
         "name": "work",
         "type": "scatter",
         "x": [
          null,
          null,
          2,
          3,
          4,
          5,
          6,
          7,
          8,
          9,
          10,
          11,
          null,
          null,
          null,
          null
         ],
         "y": [
          "aircraft_3",
          "aircraft_3",
          "aircraft_3",
          "aircraft_3",
          "aircraft_3",
          "aircraft_3",
          "aircraft_3",
          "aircraft_3",
          "aircraft_3",
          "aircraft_3",
          "aircraft_3",
          "aircraft_3",
          "aircraft_3",
          "aircraft_3",
          "aircraft_3",
          "aircraft_3"
         ]
        },
        {
         "legendgroup": "work",
         "line": {
          "color": "rgb(200, 0, 0)"
         },
         "mode": "lines+markers",
         "name": "work",
         "showlegend": false,
         "type": "scatter",
         "x": [
          null,
          null,
          null,
          null,
          4,
          5,
          6,
          7,
          8,
          9,
          10,
          11,
          null,
          null,
          null,
          null
         ],
         "y": [
          "aircraft_4",
          "aircraft_4",
          "aircraft_4",
          "aircraft_4",
          "aircraft_4",
          "aircraft_4",
          "aircraft_4",
          "aircraft_4",
          "aircraft_4",
          "aircraft_4",
          "aircraft_4",
          "aircraft_4",
          "aircraft_4",
          "aircraft_4",
          "aircraft_4",
          "aircraft_4"
         ]
        },
        {
         "legendgroup": "work",
         "line": {
          "color": "rgb(200, 0, 0)"
         },
         "mode": "lines+markers",
         "name": "work",
         "showlegend": false,
         "type": "scatter",
         "x": [
          null,
          null,
          2,
          3,
          4,
          5,
          6,
          7,
          8,
          9,
          10,
          11,
          null,
          null,
          null,
          null
         ],
         "y": [
          "aircraft_5",
          "aircraft_5",
          "aircraft_5",
          "aircraft_5",
          "aircraft_5",
          "aircraft_5",
          "aircraft_5",
          "aircraft_5",
          "aircraft_5",
          "aircraft_5",
          "aircraft_5",
          "aircraft_5",
          "aircraft_5",
          "aircraft_5",
          "aircraft_5",
          "aircraft_5"
         ]
        },
        {
         "legendgroup": "work",
         "line": {
          "color": "rgb(200, 0, 0)"
         },
         "mode": "lines+markers",
         "name": "work",
         "showlegend": false,
         "type": "scatter",
         "x": [
          null,
          null,
          null,
          null,
          null,
          null,
          null,
          null,
          8,
          9,
          10,
          null,
          null,
          null,
          null,
          null
         ],
         "y": [
          "aircraft_6",
          "aircraft_6",
          "aircraft_6",
          "aircraft_6",
          "aircraft_6",
          "aircraft_6",
          "aircraft_6",
          "aircraft_6",
          "aircraft_6",
          "aircraft_6",
          "aircraft_6",
          "aircraft_6",
          "aircraft_6",
          "aircraft_6",
          "aircraft_6",
          "aircraft_6"
         ]
        },
        {
         "legendgroup": "work",
         "line": {
          "color": "rgb(200, 0, 0)"
         },
         "mode": "lines+markers",
         "name": "work",
         "showlegend": false,
         "type": "scatter",
         "x": [
          null,
          null,
          null,
          null,
          null,
          null,
          null,
          null,
          8,
          9,
          10,
          11,
          null,
          null,
          null,
          null
         ],
         "y": [
          "machine_5",
          "machine_5",
          "machine_5",
          "machine_5",
          "machine_5",
          "machine_5",
          "machine_5",
          "machine_5",
          "machine_5",
          "machine_5",
          "machine_5",
          "machine_5",
          "machine_5",
          "machine_5",
          "machine_5",
          "machine_5"
         ]
        }
       ],
       "layout": {
        "showlegend": true,
        "template": {
         "data": {
          "bar": [
           {
            "error_x": {
             "color": "#2a3f5f"
            },
            "error_y": {
             "color": "#2a3f5f"
            },
            "marker": {
             "line": {
              "color": "#E5ECF6",
              "width": 0.5
             }
            },
            "type": "bar"
           }
          ],
          "barpolar": [
           {
            "marker": {
             "line": {
              "color": "#E5ECF6",
              "width": 0.5
             }
            },
            "type": "barpolar"
           }
          ],
          "carpet": [
           {
            "aaxis": {
             "endlinecolor": "#2a3f5f",
             "gridcolor": "white",
             "linecolor": "white",
             "minorgridcolor": "white",
             "startlinecolor": "#2a3f5f"
            },
            "baxis": {
             "endlinecolor": "#2a3f5f",
             "gridcolor": "white",
             "linecolor": "white",
             "minorgridcolor": "white",
             "startlinecolor": "#2a3f5f"
            },
            "type": "carpet"
           }
          ],
          "choropleth": [
           {
            "colorbar": {
             "outlinewidth": 0,
             "ticks": ""
            },
            "type": "choropleth"
           }
          ],
          "contour": [
           {
            "colorbar": {
             "outlinewidth": 0,
             "ticks": ""
            },
            "colorscale": [
             [
              0,
              "#0d0887"
             ],
             [
              0.1111111111111111,
              "#46039f"
             ],
             [
              0.2222222222222222,
              "#7201a8"
             ],
             [
              0.3333333333333333,
              "#9c179e"
             ],
             [
              0.4444444444444444,
              "#bd3786"
             ],
             [
              0.5555555555555556,
              "#d8576b"
             ],
             [
              0.6666666666666666,
              "#ed7953"
             ],
             [
              0.7777777777777778,
              "#fb9f3a"
             ],
             [
              0.8888888888888888,
              "#fdca26"
             ],
             [
              1,
              "#f0f921"
             ]
            ],
            "type": "contour"
           }
          ],
          "contourcarpet": [
           {
            "colorbar": {
             "outlinewidth": 0,
             "ticks": ""
            },
            "type": "contourcarpet"
           }
          ],
          "heatmap": [
           {
            "colorbar": {
             "outlinewidth": 0,
             "ticks": ""
            },
            "colorscale": [
             [
              0,
              "#0d0887"
             ],
             [
              0.1111111111111111,
              "#46039f"
             ],
             [
              0.2222222222222222,
              "#7201a8"
             ],
             [
              0.3333333333333333,
              "#9c179e"
             ],
             [
              0.4444444444444444,
              "#bd3786"
             ],
             [
              0.5555555555555556,
              "#d8576b"
             ],
             [
              0.6666666666666666,
              "#ed7953"
             ],
             [
              0.7777777777777778,
              "#fb9f3a"
             ],
             [
              0.8888888888888888,
              "#fdca26"
             ],
             [
              1,
              "#f0f921"
             ]
            ],
            "type": "heatmap"
           }
          ],
          "heatmapgl": [
           {
            "colorbar": {
             "outlinewidth": 0,
             "ticks": ""
            },
            "colorscale": [
             [
              0,
              "#0d0887"
             ],
             [
              0.1111111111111111,
              "#46039f"
             ],
             [
              0.2222222222222222,
              "#7201a8"
             ],
             [
              0.3333333333333333,
              "#9c179e"
             ],
             [
              0.4444444444444444,
              "#bd3786"
             ],
             [
              0.5555555555555556,
              "#d8576b"
             ],
             [
              0.6666666666666666,
              "#ed7953"
             ],
             [
              0.7777777777777778,
              "#fb9f3a"
             ],
             [
              0.8888888888888888,
              "#fdca26"
             ],
             [
              1,
              "#f0f921"
             ]
            ],
            "type": "heatmapgl"
           }
          ],
          "histogram": [
           {
            "marker": {
             "colorbar": {
              "outlinewidth": 0,
              "ticks": ""
             }
            },
            "type": "histogram"
           }
          ],
          "histogram2d": [
           {
            "colorbar": {
             "outlinewidth": 0,
             "ticks": ""
            },
            "colorscale": [
             [
              0,
              "#0d0887"
             ],
             [
              0.1111111111111111,
              "#46039f"
             ],
             [
              0.2222222222222222,
              "#7201a8"
             ],
             [
              0.3333333333333333,
              "#9c179e"
             ],
             [
              0.4444444444444444,
              "#bd3786"
             ],
             [
              0.5555555555555556,
              "#d8576b"
             ],
             [
              0.6666666666666666,
              "#ed7953"
             ],
             [
              0.7777777777777778,
              "#fb9f3a"
             ],
             [
              0.8888888888888888,
              "#fdca26"
             ],
             [
              1,
              "#f0f921"
             ]
            ],
            "type": "histogram2d"
           }
          ],
          "histogram2dcontour": [
           {
            "colorbar": {
             "outlinewidth": 0,
             "ticks": ""
            },
            "colorscale": [
             [
              0,
              "#0d0887"
             ],
             [
              0.1111111111111111,
              "#46039f"
             ],
             [
              0.2222222222222222,
              "#7201a8"
             ],
             [
              0.3333333333333333,
              "#9c179e"
             ],
             [
              0.4444444444444444,
              "#bd3786"
             ],
             [
              0.5555555555555556,
              "#d8576b"
             ],
             [
              0.6666666666666666,
              "#ed7953"
             ],
             [
              0.7777777777777778,
              "#fb9f3a"
             ],
             [
              0.8888888888888888,
              "#fdca26"
             ],
             [
              1,
              "#f0f921"
             ]
            ],
            "type": "histogram2dcontour"
           }
          ],
          "mesh3d": [
           {
            "colorbar": {
             "outlinewidth": 0,
             "ticks": ""
            },
            "type": "mesh3d"
           }
          ],
          "parcoords": [
           {
            "line": {
             "colorbar": {
              "outlinewidth": 0,
              "ticks": ""
             }
            },
            "type": "parcoords"
           }
          ],
          "pie": [
           {
            "automargin": true,
            "type": "pie"
           }
          ],
          "scatter": [
           {
            "marker": {
             "colorbar": {
              "outlinewidth": 0,
              "ticks": ""
             }
            },
            "type": "scatter"
           }
          ],
          "scatter3d": [
           {
            "line": {
             "colorbar": {
              "outlinewidth": 0,
              "ticks": ""
             }
            },
            "marker": {
             "colorbar": {
              "outlinewidth": 0,
              "ticks": ""
             }
            },
            "type": "scatter3d"
           }
          ],
          "scattercarpet": [
           {
            "marker": {
             "colorbar": {
              "outlinewidth": 0,
              "ticks": ""
             }
            },
            "type": "scattercarpet"
           }
          ],
          "scattergeo": [
           {
            "marker": {
             "colorbar": {
              "outlinewidth": 0,
              "ticks": ""
             }
            },
            "type": "scattergeo"
           }
          ],
          "scattergl": [
           {
            "marker": {
             "colorbar": {
              "outlinewidth": 0,
              "ticks": ""
             }
            },
            "type": "scattergl"
           }
          ],
          "scattermapbox": [
           {
            "marker": {
             "colorbar": {
              "outlinewidth": 0,
              "ticks": ""
             }
            },
            "type": "scattermapbox"
           }
          ],
          "scatterpolar": [
           {
            "marker": {
             "colorbar": {
              "outlinewidth": 0,
              "ticks": ""
             }
            },
            "type": "scatterpolar"
           }
          ],
          "scatterpolargl": [
           {
            "marker": {
             "colorbar": {
              "outlinewidth": 0,
              "ticks": ""
             }
            },
            "type": "scatterpolargl"
           }
          ],
          "scatterternary": [
           {
            "marker": {
             "colorbar": {
              "outlinewidth": 0,
              "ticks": ""
             }
            },
            "type": "scatterternary"
           }
          ],
          "surface": [
           {
            "colorbar": {
             "outlinewidth": 0,
             "ticks": ""
            },
            "colorscale": [
             [
              0,
              "#0d0887"
             ],
             [
              0.1111111111111111,
              "#46039f"
             ],
             [
              0.2222222222222222,
              "#7201a8"
             ],
             [
              0.3333333333333333,
              "#9c179e"
             ],
             [
              0.4444444444444444,
              "#bd3786"
             ],
             [
              0.5555555555555556,
              "#d8576b"
             ],
             [
              0.6666666666666666,
              "#ed7953"
             ],
             [
              0.7777777777777778,
              "#fb9f3a"
             ],
             [
              0.8888888888888888,
              "#fdca26"
             ],
             [
              1,
              "#f0f921"
             ]
            ],
            "type": "surface"
           }
          ],
          "table": [
           {
            "cells": {
             "fill": {
              "color": "#EBF0F8"
             },
             "line": {
              "color": "white"
             }
            },
            "header": {
             "fill": {
              "color": "#C8D4E3"
             },
             "line": {
              "color": "white"
             }
            },
            "type": "table"
           }
          ]
         },
         "layout": {
          "annotationdefaults": {
           "arrowcolor": "#2a3f5f",
           "arrowhead": 0,
           "arrowwidth": 1
          },
          "coloraxis": {
           "colorbar": {
            "outlinewidth": 0,
            "ticks": ""
           }
          },
          "colorscale": {
           "diverging": [
            [
             0,
             "#8e0152"
            ],
            [
             0.1,
             "#c51b7d"
            ],
            [
             0.2,
             "#de77ae"
            ],
            [
             0.3,
             "#f1b6da"
            ],
            [
             0.4,
             "#fde0ef"
            ],
            [
             0.5,
             "#f7f7f7"
            ],
            [
             0.6,
             "#e6f5d0"
            ],
            [
             0.7,
             "#b8e186"
            ],
            [
             0.8,
             "#7fbc41"
            ],
            [
             0.9,
             "#4d9221"
            ],
            [
             1,
             "#276419"
            ]
           ],
           "sequential": [
            [
             0,
             "#0d0887"
            ],
            [
             0.1111111111111111,
             "#46039f"
            ],
            [
             0.2222222222222222,
             "#7201a8"
            ],
            [
             0.3333333333333333,
             "#9c179e"
            ],
            [
             0.4444444444444444,
             "#bd3786"
            ],
            [
             0.5555555555555556,
             "#d8576b"
            ],
            [
             0.6666666666666666,
             "#ed7953"
            ],
            [
             0.7777777777777778,
             "#fb9f3a"
            ],
            [
             0.8888888888888888,
             "#fdca26"
            ],
            [
             1,
             "#f0f921"
            ]
           ],
           "sequentialminus": [
            [
             0,
             "#0d0887"
            ],
            [
             0.1111111111111111,
             "#46039f"
            ],
            [
             0.2222222222222222,
             "#7201a8"
            ],
            [
             0.3333333333333333,
             "#9c179e"
            ],
            [
             0.4444444444444444,
             "#bd3786"
            ],
            [
             0.5555555555555556,
             "#d8576b"
            ],
            [
             0.6666666666666666,
             "#ed7953"
            ],
            [
             0.7777777777777778,
             "#fb9f3a"
            ],
            [
             0.8888888888888888,
             "#fdca26"
            ],
            [
             1,
             "#f0f921"
            ]
           ]
          },
          "colorway": [
           "#636efa",
           "#EF553B",
           "#00cc96",
           "#ab63fa",
           "#FFA15A",
           "#19d3f3",
           "#FF6692",
           "#B6E880",
           "#FF97FF",
           "#FECB52"
          ],
          "font": {
           "color": "#2a3f5f"
          },
          "geo": {
           "bgcolor": "white",
           "lakecolor": "white",
           "landcolor": "#E5ECF6",
           "showlakes": true,
           "showland": true,
           "subunitcolor": "white"
          },
          "hoverlabel": {
           "align": "left"
          },
          "hovermode": "closest",
          "mapbox": {
           "style": "light"
          },
          "paper_bgcolor": "white",
          "plot_bgcolor": "#E5ECF6",
          "polar": {
           "angularaxis": {
            "gridcolor": "white",
            "linecolor": "white",
            "ticks": ""
           },
           "bgcolor": "#E5ECF6",
           "radialaxis": {
            "gridcolor": "white",
            "linecolor": "white",
            "ticks": ""
           }
          },
          "scene": {
           "xaxis": {
            "backgroundcolor": "#E5ECF6",
            "gridcolor": "white",
            "gridwidth": 2,
            "linecolor": "white",
            "showbackground": true,
            "ticks": "",
            "zerolinecolor": "white"
           },
           "yaxis": {
            "backgroundcolor": "#E5ECF6",
            "gridcolor": "white",
            "gridwidth": 2,
            "linecolor": "white",
            "showbackground": true,
            "ticks": "",
            "zerolinecolor": "white"
           },
           "zaxis": {
            "backgroundcolor": "#E5ECF6",
            "gridcolor": "white",
            "gridwidth": 2,
            "linecolor": "white",
            "showbackground": true,
            "ticks": "",
            "zerolinecolor": "white"
           }
          },
          "shapedefaults": {
           "line": {
            "color": "#2a3f5f"
           }
          },
          "ternary": {
           "aaxis": {
            "gridcolor": "white",
            "linecolor": "white",
            "ticks": ""
           },
           "baxis": {
            "gridcolor": "white",
            "linecolor": "white",
            "ticks": ""
           },
           "bgcolor": "#E5ECF6",
           "caxis": {
            "gridcolor": "white",
            "linecolor": "white",
            "ticks": ""
           }
          },
          "title": {
           "x": 0.05
          },
          "xaxis": {
           "automargin": true,
           "gridcolor": "white",
           "linecolor": "white",
           "ticks": "",
           "title": {
            "standoff": 15
           },
           "zerolinecolor": "white",
           "zerolinewidth": 2
          },
          "yaxis": {
           "automargin": true,
           "gridcolor": "white",
           "linecolor": "white",
           "ticks": "",
           "title": {
            "standoff": 15
           },
           "zerolinecolor": "white",
           "zerolinewidth": 2
          }
         }
        },
        "title": {
         "text": "Resources Scheduling"
        },
        "xaxis": {
         "title": {
          "text": "Periods"
         }
        },
        "yaxis": {
         "title": {
          "text": "Resources"
         }
        }
       }
      },
      "text/html": [
       "<div>\n",
       "        \n",
       "        \n",
       "            <div id=\"6fbaab2f-f052-4e1a-98b2-78643e69b112\" class=\"plotly-graph-div\" style=\"height:525px; width:100%;\"></div>\n",
       "            <script type=\"text/javascript\">\n",
       "                require([\"plotly\"], function(Plotly) {\n",
       "                    window.PLOTLYENV=window.PLOTLYENV || {};\n",
       "                    \n",
       "                if (document.getElementById(\"6fbaab2f-f052-4e1a-98b2-78643e69b112\")) {\n",
       "                    Plotly.newPlot(\n",
       "                        '6fbaab2f-f052-4e1a-98b2-78643e69b112',\n",
       "                        [{\"legendgroup\": \"travel\", \"line\": {\"color\": \"rgb(0, 0, 200)\", \"dash\": \"dot\"}, \"mode\": \"lines+markers\", \"name\": \"travel\", \"showlegend\": false, \"type\": \"scatter\", \"x\": [null, null, null, null, null, null, null, null, null, null, null, 11, 12, null, null, null], \"y\": [\"brigade_3\", \"brigade_3\", \"brigade_3\", \"brigade_3\", \"brigade_3\", \"brigade_3\", \"brigade_3\", \"brigade_3\", \"brigade_3\", \"brigade_3\", \"brigade_3\", \"brigade_3\", \"brigade_3\", \"brigade_3\", \"brigade_3\", \"brigade_3\"]}, {\"legendgroup\": \"travel\", \"line\": {\"color\": \"rgb(0, 0, 200)\", \"dash\": \"dot\"}, \"mode\": \"lines+markers\", \"name\": \"travel\", \"showlegend\": false, \"type\": \"scatter\", \"x\": [0, 1, 2, 3, 4, 5, null, null, null, null, null, 11, 12, null, null, null], \"y\": [\"brigade_5\", \"brigade_5\", \"brigade_5\", \"brigade_5\", \"brigade_5\", \"brigade_5\", \"brigade_5\", \"brigade_5\", \"brigade_5\", \"brigade_5\", \"brigade_5\", \"brigade_5\", \"brigade_5\", \"brigade_5\", \"brigade_5\", \"brigade_5\"]}, {\"legendgroup\": \"travel\", \"line\": {\"color\": \"rgb(0, 0, 200)\", \"dash\": \"dot\"}, \"mode\": \"lines+markers\", \"name\": \"travel\", \"type\": \"scatter\", \"x\": [0, 1, 2, null, null, null, null, null, null, null, null, 11, 12, null, null, null], \"y\": [\"aircraft_3\", \"aircraft_3\", \"aircraft_3\", \"aircraft_3\", \"aircraft_3\", \"aircraft_3\", \"aircraft_3\", \"aircraft_3\", \"aircraft_3\", \"aircraft_3\", \"aircraft_3\", \"aircraft_3\", \"aircraft_3\", \"aircraft_3\", \"aircraft_3\", \"aircraft_3\"]}, {\"legendgroup\": \"travel\", \"line\": {\"color\": \"rgb(0, 0, 200)\", \"dash\": \"dot\"}, \"mode\": \"lines+markers\", \"name\": \"travel\", \"showlegend\": false, \"type\": \"scatter\", \"x\": [0, 1, 2, 3, 4, null, null, null, null, null, null, 11, 12, null, null, null], \"y\": [\"aircraft_4\", \"aircraft_4\", \"aircraft_4\", \"aircraft_4\", \"aircraft_4\", \"aircraft_4\", \"aircraft_4\", \"aircraft_4\", \"aircraft_4\", \"aircraft_4\", \"aircraft_4\", \"aircraft_4\", \"aircraft_4\", \"aircraft_4\", \"aircraft_4\", \"aircraft_4\"]}, {\"legendgroup\": \"travel\", \"line\": {\"color\": \"rgb(0, 0, 200)\", \"dash\": \"dot\"}, \"mode\": \"lines+markers\", \"name\": \"travel\", \"showlegend\": false, \"type\": \"scatter\", \"x\": [0, 1, 2, null, null, null, null, null, null, null, null, 11, 12, null, null, null], \"y\": [\"aircraft_5\", \"aircraft_5\", \"aircraft_5\", \"aircraft_5\", \"aircraft_5\", \"aircraft_5\", \"aircraft_5\", \"aircraft_5\", \"aircraft_5\", \"aircraft_5\", \"aircraft_5\", \"aircraft_5\", \"aircraft_5\", \"aircraft_5\", \"aircraft_5\", \"aircraft_5\"]}, {\"legendgroup\": \"travel\", \"line\": {\"color\": \"rgb(0, 0, 200)\", \"dash\": \"dot\"}, \"mode\": \"lines+markers\", \"name\": \"travel\", \"showlegend\": false, \"type\": \"scatter\", \"x\": [null, null, null, null, null, 5, 6, 7, 8, null, 10, 11, null, null, null, null], \"y\": [\"aircraft_6\", \"aircraft_6\", \"aircraft_6\", \"aircraft_6\", \"aircraft_6\", \"aircraft_6\", \"aircraft_6\", \"aircraft_6\", \"aircraft_6\", \"aircraft_6\", \"aircraft_6\", \"aircraft_6\", \"aircraft_6\", \"aircraft_6\", \"aircraft_6\", \"aircraft_6\"]}, {\"legendgroup\": \"travel\", \"line\": {\"color\": \"rgb(0, 0, 200)\", \"dash\": \"dot\"}, \"mode\": \"lines+markers\", \"name\": \"travel\", \"showlegend\": false, \"type\": \"scatter\", \"x\": [0, 1, 2, 3, 4, 5, 6, 7, 8, null, null, 11, 12, null, null, null], \"y\": [\"machine_5\", \"machine_5\", \"machine_5\", \"machine_5\", \"machine_5\", \"machine_5\", \"machine_5\", \"machine_5\", \"machine_5\", \"machine_5\", \"machine_5\", \"machine_5\", \"machine_5\", \"machine_5\", \"machine_5\", \"machine_5\"]}, {\"legendgroup\": \"work\", \"line\": {\"color\": \"rgb(200, 0, 0)\"}, \"mode\": \"lines+markers\", \"name\": \"work\", \"showlegend\": false, \"type\": \"scatter\", \"x\": [0, 1, 2, 3, 4, 5, 6, 7, 8, 9, 10, 11, null, null, null, null], \"y\": [\"brigade_3\", \"brigade_3\", \"brigade_3\", \"brigade_3\", \"brigade_3\", \"brigade_3\", \"brigade_3\", \"brigade_3\", \"brigade_3\", \"brigade_3\", \"brigade_3\", \"brigade_3\", \"brigade_3\", \"brigade_3\", \"brigade_3\", \"brigade_3\"]}, {\"legendgroup\": \"work\", \"line\": {\"color\": \"rgb(200, 0, 0)\"}, \"mode\": \"lines+markers\", \"name\": \"work\", \"showlegend\": false, \"type\": \"scatter\", \"x\": [null, null, null, null, null, 5, 6, 7, 8, 9, 10, 11, null, null, null, null], \"y\": [\"brigade_5\", \"brigade_5\", \"brigade_5\", \"brigade_5\", \"brigade_5\", \"brigade_5\", \"brigade_5\", \"brigade_5\", \"brigade_5\", \"brigade_5\", \"brigade_5\", \"brigade_5\", \"brigade_5\", \"brigade_5\", \"brigade_5\", \"brigade_5\"]}, {\"legendgroup\": \"work\", \"line\": {\"color\": \"rgb(200, 0, 0)\"}, \"mode\": \"lines+markers\", \"name\": \"work\", \"type\": \"scatter\", \"x\": [null, null, 2, 3, 4, 5, 6, 7, 8, 9, 10, 11, null, null, null, null], \"y\": [\"aircraft_3\", \"aircraft_3\", \"aircraft_3\", \"aircraft_3\", \"aircraft_3\", \"aircraft_3\", \"aircraft_3\", \"aircraft_3\", \"aircraft_3\", \"aircraft_3\", \"aircraft_3\", \"aircraft_3\", \"aircraft_3\", \"aircraft_3\", \"aircraft_3\", \"aircraft_3\"]}, {\"legendgroup\": \"work\", \"line\": {\"color\": \"rgb(200, 0, 0)\"}, \"mode\": \"lines+markers\", \"name\": \"work\", \"showlegend\": false, \"type\": \"scatter\", \"x\": [null, null, null, null, 4, 5, 6, 7, 8, 9, 10, 11, null, null, null, null], \"y\": [\"aircraft_4\", \"aircraft_4\", \"aircraft_4\", \"aircraft_4\", \"aircraft_4\", \"aircraft_4\", \"aircraft_4\", \"aircraft_4\", \"aircraft_4\", \"aircraft_4\", \"aircraft_4\", \"aircraft_4\", \"aircraft_4\", \"aircraft_4\", \"aircraft_4\", \"aircraft_4\"]}, {\"legendgroup\": \"work\", \"line\": {\"color\": \"rgb(200, 0, 0)\"}, \"mode\": \"lines+markers\", \"name\": \"work\", \"showlegend\": false, \"type\": \"scatter\", \"x\": [null, null, 2, 3, 4, 5, 6, 7, 8, 9, 10, 11, null, null, null, null], \"y\": [\"aircraft_5\", \"aircraft_5\", \"aircraft_5\", \"aircraft_5\", \"aircraft_5\", \"aircraft_5\", \"aircraft_5\", \"aircraft_5\", \"aircraft_5\", \"aircraft_5\", \"aircraft_5\", \"aircraft_5\", \"aircraft_5\", \"aircraft_5\", \"aircraft_5\", \"aircraft_5\"]}, {\"legendgroup\": \"work\", \"line\": {\"color\": \"rgb(200, 0, 0)\"}, \"mode\": \"lines+markers\", \"name\": \"work\", \"showlegend\": false, \"type\": \"scatter\", \"x\": [null, null, null, null, null, null, null, null, 8, 9, 10, null, null, null, null, null], \"y\": [\"aircraft_6\", \"aircraft_6\", \"aircraft_6\", \"aircraft_6\", \"aircraft_6\", \"aircraft_6\", \"aircraft_6\", \"aircraft_6\", \"aircraft_6\", \"aircraft_6\", \"aircraft_6\", \"aircraft_6\", \"aircraft_6\", \"aircraft_6\", \"aircraft_6\", \"aircraft_6\"]}, {\"legendgroup\": \"work\", \"line\": {\"color\": \"rgb(200, 0, 0)\"}, \"mode\": \"lines+markers\", \"name\": \"work\", \"showlegend\": false, \"type\": \"scatter\", \"x\": [null, null, null, null, null, null, null, null, 8, 9, 10, 11, null, null, null, null], \"y\": [\"machine_5\", \"machine_5\", \"machine_5\", \"machine_5\", \"machine_5\", \"machine_5\", \"machine_5\", \"machine_5\", \"machine_5\", \"machine_5\", \"machine_5\", \"machine_5\", \"machine_5\", \"machine_5\", \"machine_5\", \"machine_5\"]}],\n",
       "                        {\"showlegend\": true, \"template\": {\"data\": {\"bar\": [{\"error_x\": {\"color\": \"#2a3f5f\"}, \"error_y\": {\"color\": \"#2a3f5f\"}, \"marker\": {\"line\": {\"color\": \"#E5ECF6\", \"width\": 0.5}}, \"type\": \"bar\"}], \"barpolar\": [{\"marker\": {\"line\": {\"color\": \"#E5ECF6\", \"width\": 0.5}}, \"type\": \"barpolar\"}], \"carpet\": [{\"aaxis\": {\"endlinecolor\": \"#2a3f5f\", \"gridcolor\": \"white\", \"linecolor\": \"white\", \"minorgridcolor\": \"white\", \"startlinecolor\": \"#2a3f5f\"}, \"baxis\": {\"endlinecolor\": \"#2a3f5f\", \"gridcolor\": \"white\", \"linecolor\": \"white\", \"minorgridcolor\": \"white\", \"startlinecolor\": \"#2a3f5f\"}, \"type\": \"carpet\"}], \"choropleth\": [{\"colorbar\": {\"outlinewidth\": 0, \"ticks\": \"\"}, \"type\": \"choropleth\"}], \"contour\": [{\"colorbar\": {\"outlinewidth\": 0, \"ticks\": \"\"}, \"colorscale\": [[0.0, \"#0d0887\"], [0.1111111111111111, \"#46039f\"], [0.2222222222222222, \"#7201a8\"], [0.3333333333333333, \"#9c179e\"], [0.4444444444444444, \"#bd3786\"], [0.5555555555555556, \"#d8576b\"], [0.6666666666666666, \"#ed7953\"], [0.7777777777777778, \"#fb9f3a\"], [0.8888888888888888, \"#fdca26\"], [1.0, \"#f0f921\"]], \"type\": \"contour\"}], \"contourcarpet\": [{\"colorbar\": {\"outlinewidth\": 0, \"ticks\": \"\"}, \"type\": \"contourcarpet\"}], \"heatmap\": [{\"colorbar\": {\"outlinewidth\": 0, \"ticks\": \"\"}, \"colorscale\": [[0.0, \"#0d0887\"], [0.1111111111111111, \"#46039f\"], [0.2222222222222222, \"#7201a8\"], [0.3333333333333333, \"#9c179e\"], [0.4444444444444444, \"#bd3786\"], [0.5555555555555556, \"#d8576b\"], [0.6666666666666666, \"#ed7953\"], [0.7777777777777778, \"#fb9f3a\"], [0.8888888888888888, \"#fdca26\"], [1.0, \"#f0f921\"]], \"type\": \"heatmap\"}], \"heatmapgl\": [{\"colorbar\": {\"outlinewidth\": 0, \"ticks\": \"\"}, \"colorscale\": [[0.0, \"#0d0887\"], [0.1111111111111111, \"#46039f\"], [0.2222222222222222, \"#7201a8\"], [0.3333333333333333, \"#9c179e\"], [0.4444444444444444, \"#bd3786\"], [0.5555555555555556, \"#d8576b\"], [0.6666666666666666, \"#ed7953\"], [0.7777777777777778, \"#fb9f3a\"], [0.8888888888888888, \"#fdca26\"], [1.0, \"#f0f921\"]], \"type\": \"heatmapgl\"}], \"histogram\": [{\"marker\": {\"colorbar\": {\"outlinewidth\": 0, \"ticks\": \"\"}}, \"type\": \"histogram\"}], \"histogram2d\": [{\"colorbar\": {\"outlinewidth\": 0, \"ticks\": \"\"}, \"colorscale\": [[0.0, \"#0d0887\"], [0.1111111111111111, \"#46039f\"], [0.2222222222222222, \"#7201a8\"], [0.3333333333333333, \"#9c179e\"], [0.4444444444444444, \"#bd3786\"], [0.5555555555555556, \"#d8576b\"], [0.6666666666666666, \"#ed7953\"], [0.7777777777777778, \"#fb9f3a\"], [0.8888888888888888, \"#fdca26\"], [1.0, \"#f0f921\"]], \"type\": \"histogram2d\"}], \"histogram2dcontour\": [{\"colorbar\": {\"outlinewidth\": 0, \"ticks\": \"\"}, \"colorscale\": [[0.0, \"#0d0887\"], [0.1111111111111111, \"#46039f\"], [0.2222222222222222, \"#7201a8\"], [0.3333333333333333, \"#9c179e\"], [0.4444444444444444, \"#bd3786\"], [0.5555555555555556, \"#d8576b\"], [0.6666666666666666, \"#ed7953\"], [0.7777777777777778, \"#fb9f3a\"], [0.8888888888888888, \"#fdca26\"], [1.0, \"#f0f921\"]], \"type\": \"histogram2dcontour\"}], \"mesh3d\": [{\"colorbar\": {\"outlinewidth\": 0, \"ticks\": \"\"}, \"type\": \"mesh3d\"}], \"parcoords\": [{\"line\": {\"colorbar\": {\"outlinewidth\": 0, \"ticks\": \"\"}}, \"type\": \"parcoords\"}], \"pie\": [{\"automargin\": true, \"type\": \"pie\"}], \"scatter\": [{\"marker\": {\"colorbar\": {\"outlinewidth\": 0, \"ticks\": \"\"}}, \"type\": \"scatter\"}], \"scatter3d\": [{\"line\": {\"colorbar\": {\"outlinewidth\": 0, \"ticks\": \"\"}}, \"marker\": {\"colorbar\": {\"outlinewidth\": 0, \"ticks\": \"\"}}, \"type\": \"scatter3d\"}], \"scattercarpet\": [{\"marker\": {\"colorbar\": {\"outlinewidth\": 0, \"ticks\": \"\"}}, \"type\": \"scattercarpet\"}], \"scattergeo\": [{\"marker\": {\"colorbar\": {\"outlinewidth\": 0, \"ticks\": \"\"}}, \"type\": \"scattergeo\"}], \"scattergl\": [{\"marker\": {\"colorbar\": {\"outlinewidth\": 0, \"ticks\": \"\"}}, \"type\": \"scattergl\"}], \"scattermapbox\": [{\"marker\": {\"colorbar\": {\"outlinewidth\": 0, \"ticks\": \"\"}}, \"type\": \"scattermapbox\"}], \"scatterpolar\": [{\"marker\": {\"colorbar\": {\"outlinewidth\": 0, \"ticks\": \"\"}}, \"type\": \"scatterpolar\"}], \"scatterpolargl\": [{\"marker\": {\"colorbar\": {\"outlinewidth\": 0, \"ticks\": \"\"}}, \"type\": \"scatterpolargl\"}], \"scatterternary\": [{\"marker\": {\"colorbar\": {\"outlinewidth\": 0, \"ticks\": \"\"}}, \"type\": \"scatterternary\"}], \"surface\": [{\"colorbar\": {\"outlinewidth\": 0, \"ticks\": \"\"}, \"colorscale\": [[0.0, \"#0d0887\"], [0.1111111111111111, \"#46039f\"], [0.2222222222222222, \"#7201a8\"], [0.3333333333333333, \"#9c179e\"], [0.4444444444444444, \"#bd3786\"], [0.5555555555555556, \"#d8576b\"], [0.6666666666666666, \"#ed7953\"], [0.7777777777777778, \"#fb9f3a\"], [0.8888888888888888, \"#fdca26\"], [1.0, \"#f0f921\"]], \"type\": \"surface\"}], \"table\": [{\"cells\": {\"fill\": {\"color\": \"#EBF0F8\"}, \"line\": {\"color\": \"white\"}}, \"header\": {\"fill\": {\"color\": \"#C8D4E3\"}, \"line\": {\"color\": \"white\"}}, \"type\": \"table\"}]}, \"layout\": {\"annotationdefaults\": {\"arrowcolor\": \"#2a3f5f\", \"arrowhead\": 0, \"arrowwidth\": 1}, \"coloraxis\": {\"colorbar\": {\"outlinewidth\": 0, \"ticks\": \"\"}}, \"colorscale\": {\"diverging\": [[0, \"#8e0152\"], [0.1, \"#c51b7d\"], [0.2, \"#de77ae\"], [0.3, \"#f1b6da\"], [0.4, \"#fde0ef\"], [0.5, \"#f7f7f7\"], [0.6, \"#e6f5d0\"], [0.7, \"#b8e186\"], [0.8, \"#7fbc41\"], [0.9, \"#4d9221\"], [1, \"#276419\"]], \"sequential\": [[0.0, \"#0d0887\"], [0.1111111111111111, \"#46039f\"], [0.2222222222222222, \"#7201a8\"], [0.3333333333333333, \"#9c179e\"], [0.4444444444444444, \"#bd3786\"], [0.5555555555555556, \"#d8576b\"], [0.6666666666666666, \"#ed7953\"], [0.7777777777777778, \"#fb9f3a\"], [0.8888888888888888, \"#fdca26\"], [1.0, \"#f0f921\"]], \"sequentialminus\": [[0.0, \"#0d0887\"], [0.1111111111111111, \"#46039f\"], [0.2222222222222222, \"#7201a8\"], [0.3333333333333333, \"#9c179e\"], [0.4444444444444444, \"#bd3786\"], [0.5555555555555556, \"#d8576b\"], [0.6666666666666666, \"#ed7953\"], [0.7777777777777778, \"#fb9f3a\"], [0.8888888888888888, \"#fdca26\"], [1.0, \"#f0f921\"]]}, \"colorway\": [\"#636efa\", \"#EF553B\", \"#00cc96\", \"#ab63fa\", \"#FFA15A\", \"#19d3f3\", \"#FF6692\", \"#B6E880\", \"#FF97FF\", \"#FECB52\"], \"font\": {\"color\": \"#2a3f5f\"}, \"geo\": {\"bgcolor\": \"white\", \"lakecolor\": \"white\", \"landcolor\": \"#E5ECF6\", \"showlakes\": true, \"showland\": true, \"subunitcolor\": \"white\"}, \"hoverlabel\": {\"align\": \"left\"}, \"hovermode\": \"closest\", \"mapbox\": {\"style\": \"light\"}, \"paper_bgcolor\": \"white\", \"plot_bgcolor\": \"#E5ECF6\", \"polar\": {\"angularaxis\": {\"gridcolor\": \"white\", \"linecolor\": \"white\", \"ticks\": \"\"}, \"bgcolor\": \"#E5ECF6\", \"radialaxis\": {\"gridcolor\": \"white\", \"linecolor\": \"white\", \"ticks\": \"\"}}, \"scene\": {\"xaxis\": {\"backgroundcolor\": \"#E5ECF6\", \"gridcolor\": \"white\", \"gridwidth\": 2, \"linecolor\": \"white\", \"showbackground\": true, \"ticks\": \"\", \"zerolinecolor\": \"white\"}, \"yaxis\": {\"backgroundcolor\": \"#E5ECF6\", \"gridcolor\": \"white\", \"gridwidth\": 2, \"linecolor\": \"white\", \"showbackground\": true, \"ticks\": \"\", \"zerolinecolor\": \"white\"}, \"zaxis\": {\"backgroundcolor\": \"#E5ECF6\", \"gridcolor\": \"white\", \"gridwidth\": 2, \"linecolor\": \"white\", \"showbackground\": true, \"ticks\": \"\", \"zerolinecolor\": \"white\"}}, \"shapedefaults\": {\"line\": {\"color\": \"#2a3f5f\"}}, \"ternary\": {\"aaxis\": {\"gridcolor\": \"white\", \"linecolor\": \"white\", \"ticks\": \"\"}, \"baxis\": {\"gridcolor\": \"white\", \"linecolor\": \"white\", \"ticks\": \"\"}, \"bgcolor\": \"#E5ECF6\", \"caxis\": {\"gridcolor\": \"white\", \"linecolor\": \"white\", \"ticks\": \"\"}}, \"title\": {\"x\": 0.05}, \"xaxis\": {\"automargin\": true, \"gridcolor\": \"white\", \"linecolor\": \"white\", \"ticks\": \"\", \"title\": {\"standoff\": 15}, \"zerolinecolor\": \"white\", \"zerolinewidth\": 2}, \"yaxis\": {\"automargin\": true, \"gridcolor\": \"white\", \"linecolor\": \"white\", \"ticks\": \"\", \"title\": {\"standoff\": 15}, \"zerolinecolor\": \"white\", \"zerolinewidth\": 2}}}, \"title\": {\"text\": \"Resources Scheduling\"}, \"xaxis\": {\"title\": {\"text\": \"Periods\"}}, \"yaxis\": {\"title\": {\"text\": \"Resources\"}}},\n",
       "                        {\"responsive\": true}\n",
       "                    ).then(function(){\n",
       "                            \n",
       "var gd = document.getElementById('6fbaab2f-f052-4e1a-98b2-78643e69b112');\n",
       "var x = new MutationObserver(function (mutations, observer) {{\n",
       "        var display = window.getComputedStyle(gd).display;\n",
       "        if (!display || display === 'none') {{\n",
       "            console.log([gd, 'removed!']);\n",
       "            Plotly.purge(gd);\n",
       "            observer.disconnect();\n",
       "        }}\n",
       "}});\n",
       "\n",
       "// Listen for the removal of the full notebook cells\n",
       "var notebookContainer = gd.closest('#notebook-container');\n",
       "if (notebookContainer) {{\n",
       "    x.observe(notebookContainer, {childList: true});\n",
       "}}\n",
       "\n",
       "// Listen for the clearing of the current output cell\n",
       "var outputEl = gd.closest('.output');\n",
       "if (outputEl) {{\n",
       "    x.observe(outputEl, {childList: true});\n",
       "}}\n",
       "\n",
       "                        })\n",
       "                };\n",
       "                });\n",
       "            </script>\n",
       "        </div>"
      ]
     },
     "metadata": {},
     "output_type": "display_data"
    }
   ],
   "source": [
    "problem.plot(info='scheduling')"
   ]
  },
  {
   "cell_type": "code",
   "execution_count": 8,
   "metadata": {},
   "outputs": [
    {
     "data": {
      "application/vnd.plotly.v1+json": {
       "config": {
        "linkText": "Export to plot.ly",
        "plotlyServerURL": "https://plot.ly",
        "showLink": false
       },
       "data": [
        {
         "line": {
          "shape": "vh"
         },
         "mode": "lines+markers",
         "name": "perimeter",
         "type": "scatter",
         "x": [
          0,
          1,
          2,
          3,
          4,
          5,
          6,
          7,
          8,
          9,
          10,
          11,
          12,
          13,
          14,
          15
         ],
         "y": [
          2.2,
          2.2,
          7.92,
          13.64,
          21.45,
          31.02,
          40.59,
          50.16,
          51.03,
          62.46,
          74.25,
          80.55,
          80.55,
          80.55,
          80.55,
          80.55
         ]
        },
        {
         "line": {
          "shape": "vh"
         },
         "mode": "lines+markers",
         "name": "performance",
         "type": "scatter",
         "x": [
          0,
          1,
          2,
          3,
          4,
          5,
          6,
          7,
          8,
          9,
          10,
          11,
          12,
          13,
          14,
          15
         ],
         "y": [
          1,
          1,
          2,
          7.2,
          12.4,
          19.5,
          28.2,
          36.9,
          45.599999999999994,
          57.599999999999994,
          69.6,
          80.69999999999999,
          80.69999999999999,
          80.69999999999999,
          80.69999999999999,
          80.69999999999999
         ]
        }
       ],
       "layout": {
        "template": {
         "data": {
          "bar": [
           {
            "error_x": {
             "color": "#2a3f5f"
            },
            "error_y": {
             "color": "#2a3f5f"
            },
            "marker": {
             "line": {
              "color": "#E5ECF6",
              "width": 0.5
             }
            },
            "type": "bar"
           }
          ],
          "barpolar": [
           {
            "marker": {
             "line": {
              "color": "#E5ECF6",
              "width": 0.5
             }
            },
            "type": "barpolar"
           }
          ],
          "carpet": [
           {
            "aaxis": {
             "endlinecolor": "#2a3f5f",
             "gridcolor": "white",
             "linecolor": "white",
             "minorgridcolor": "white",
             "startlinecolor": "#2a3f5f"
            },
            "baxis": {
             "endlinecolor": "#2a3f5f",
             "gridcolor": "white",
             "linecolor": "white",
             "minorgridcolor": "white",
             "startlinecolor": "#2a3f5f"
            },
            "type": "carpet"
           }
          ],
          "choropleth": [
           {
            "colorbar": {
             "outlinewidth": 0,
             "ticks": ""
            },
            "type": "choropleth"
           }
          ],
          "contour": [
           {
            "colorbar": {
             "outlinewidth": 0,
             "ticks": ""
            },
            "colorscale": [
             [
              0,
              "#0d0887"
             ],
             [
              0.1111111111111111,
              "#46039f"
             ],
             [
              0.2222222222222222,
              "#7201a8"
             ],
             [
              0.3333333333333333,
              "#9c179e"
             ],
             [
              0.4444444444444444,
              "#bd3786"
             ],
             [
              0.5555555555555556,
              "#d8576b"
             ],
             [
              0.6666666666666666,
              "#ed7953"
             ],
             [
              0.7777777777777778,
              "#fb9f3a"
             ],
             [
              0.8888888888888888,
              "#fdca26"
             ],
             [
              1,
              "#f0f921"
             ]
            ],
            "type": "contour"
           }
          ],
          "contourcarpet": [
           {
            "colorbar": {
             "outlinewidth": 0,
             "ticks": ""
            },
            "type": "contourcarpet"
           }
          ],
          "heatmap": [
           {
            "colorbar": {
             "outlinewidth": 0,
             "ticks": ""
            },
            "colorscale": [
             [
              0,
              "#0d0887"
             ],
             [
              0.1111111111111111,
              "#46039f"
             ],
             [
              0.2222222222222222,
              "#7201a8"
             ],
             [
              0.3333333333333333,
              "#9c179e"
             ],
             [
              0.4444444444444444,
              "#bd3786"
             ],
             [
              0.5555555555555556,
              "#d8576b"
             ],
             [
              0.6666666666666666,
              "#ed7953"
             ],
             [
              0.7777777777777778,
              "#fb9f3a"
             ],
             [
              0.8888888888888888,
              "#fdca26"
             ],
             [
              1,
              "#f0f921"
             ]
            ],
            "type": "heatmap"
           }
          ],
          "heatmapgl": [
           {
            "colorbar": {
             "outlinewidth": 0,
             "ticks": ""
            },
            "colorscale": [
             [
              0,
              "#0d0887"
             ],
             [
              0.1111111111111111,
              "#46039f"
             ],
             [
              0.2222222222222222,
              "#7201a8"
             ],
             [
              0.3333333333333333,
              "#9c179e"
             ],
             [
              0.4444444444444444,
              "#bd3786"
             ],
             [
              0.5555555555555556,
              "#d8576b"
             ],
             [
              0.6666666666666666,
              "#ed7953"
             ],
             [
              0.7777777777777778,
              "#fb9f3a"
             ],
             [
              0.8888888888888888,
              "#fdca26"
             ],
             [
              1,
              "#f0f921"
             ]
            ],
            "type": "heatmapgl"
           }
          ],
          "histogram": [
           {
            "marker": {
             "colorbar": {
              "outlinewidth": 0,
              "ticks": ""
             }
            },
            "type": "histogram"
           }
          ],
          "histogram2d": [
           {
            "colorbar": {
             "outlinewidth": 0,
             "ticks": ""
            },
            "colorscale": [
             [
              0,
              "#0d0887"
             ],
             [
              0.1111111111111111,
              "#46039f"
             ],
             [
              0.2222222222222222,
              "#7201a8"
             ],
             [
              0.3333333333333333,
              "#9c179e"
             ],
             [
              0.4444444444444444,
              "#bd3786"
             ],
             [
              0.5555555555555556,
              "#d8576b"
             ],
             [
              0.6666666666666666,
              "#ed7953"
             ],
             [
              0.7777777777777778,
              "#fb9f3a"
             ],
             [
              0.8888888888888888,
              "#fdca26"
             ],
             [
              1,
              "#f0f921"
             ]
            ],
            "type": "histogram2d"
           }
          ],
          "histogram2dcontour": [
           {
            "colorbar": {
             "outlinewidth": 0,
             "ticks": ""
            },
            "colorscale": [
             [
              0,
              "#0d0887"
             ],
             [
              0.1111111111111111,
              "#46039f"
             ],
             [
              0.2222222222222222,
              "#7201a8"
             ],
             [
              0.3333333333333333,
              "#9c179e"
             ],
             [
              0.4444444444444444,
              "#bd3786"
             ],
             [
              0.5555555555555556,
              "#d8576b"
             ],
             [
              0.6666666666666666,
              "#ed7953"
             ],
             [
              0.7777777777777778,
              "#fb9f3a"
             ],
             [
              0.8888888888888888,
              "#fdca26"
             ],
             [
              1,
              "#f0f921"
             ]
            ],
            "type": "histogram2dcontour"
           }
          ],
          "mesh3d": [
           {
            "colorbar": {
             "outlinewidth": 0,
             "ticks": ""
            },
            "type": "mesh3d"
           }
          ],
          "parcoords": [
           {
            "line": {
             "colorbar": {
              "outlinewidth": 0,
              "ticks": ""
             }
            },
            "type": "parcoords"
           }
          ],
          "pie": [
           {
            "automargin": true,
            "type": "pie"
           }
          ],
          "scatter": [
           {
            "marker": {
             "colorbar": {
              "outlinewidth": 0,
              "ticks": ""
             }
            },
            "type": "scatter"
           }
          ],
          "scatter3d": [
           {
            "line": {
             "colorbar": {
              "outlinewidth": 0,
              "ticks": ""
             }
            },
            "marker": {
             "colorbar": {
              "outlinewidth": 0,
              "ticks": ""
             }
            },
            "type": "scatter3d"
           }
          ],
          "scattercarpet": [
           {
            "marker": {
             "colorbar": {
              "outlinewidth": 0,
              "ticks": ""
             }
            },
            "type": "scattercarpet"
           }
          ],
          "scattergeo": [
           {
            "marker": {
             "colorbar": {
              "outlinewidth": 0,
              "ticks": ""
             }
            },
            "type": "scattergeo"
           }
          ],
          "scattergl": [
           {
            "marker": {
             "colorbar": {
              "outlinewidth": 0,
              "ticks": ""
             }
            },
            "type": "scattergl"
           }
          ],
          "scattermapbox": [
           {
            "marker": {
             "colorbar": {
              "outlinewidth": 0,
              "ticks": ""
             }
            },
            "type": "scattermapbox"
           }
          ],
          "scatterpolar": [
           {
            "marker": {
             "colorbar": {
              "outlinewidth": 0,
              "ticks": ""
             }
            },
            "type": "scatterpolar"
           }
          ],
          "scatterpolargl": [
           {
            "marker": {
             "colorbar": {
              "outlinewidth": 0,
              "ticks": ""
             }
            },
            "type": "scatterpolargl"
           }
          ],
          "scatterternary": [
           {
            "marker": {
             "colorbar": {
              "outlinewidth": 0,
              "ticks": ""
             }
            },
            "type": "scatterternary"
           }
          ],
          "surface": [
           {
            "colorbar": {
             "outlinewidth": 0,
             "ticks": ""
            },
            "colorscale": [
             [
              0,
              "#0d0887"
             ],
             [
              0.1111111111111111,
              "#46039f"
             ],
             [
              0.2222222222222222,
              "#7201a8"
             ],
             [
              0.3333333333333333,
              "#9c179e"
             ],
             [
              0.4444444444444444,
              "#bd3786"
             ],
             [
              0.5555555555555556,
              "#d8576b"
             ],
             [
              0.6666666666666666,
              "#ed7953"
             ],
             [
              0.7777777777777778,
              "#fb9f3a"
             ],
             [
              0.8888888888888888,
              "#fdca26"
             ],
             [
              1,
              "#f0f921"
             ]
            ],
            "type": "surface"
           }
          ],
          "table": [
           {
            "cells": {
             "fill": {
              "color": "#EBF0F8"
             },
             "line": {
              "color": "white"
             }
            },
            "header": {
             "fill": {
              "color": "#C8D4E3"
             },
             "line": {
              "color": "white"
             }
            },
            "type": "table"
           }
          ]
         },
         "layout": {
          "annotationdefaults": {
           "arrowcolor": "#2a3f5f",
           "arrowhead": 0,
           "arrowwidth": 1
          },
          "coloraxis": {
           "colorbar": {
            "outlinewidth": 0,
            "ticks": ""
           }
          },
          "colorscale": {
           "diverging": [
            [
             0,
             "#8e0152"
            ],
            [
             0.1,
             "#c51b7d"
            ],
            [
             0.2,
             "#de77ae"
            ],
            [
             0.3,
             "#f1b6da"
            ],
            [
             0.4,
             "#fde0ef"
            ],
            [
             0.5,
             "#f7f7f7"
            ],
            [
             0.6,
             "#e6f5d0"
            ],
            [
             0.7,
             "#b8e186"
            ],
            [
             0.8,
             "#7fbc41"
            ],
            [
             0.9,
             "#4d9221"
            ],
            [
             1,
             "#276419"
            ]
           ],
           "sequential": [
            [
             0,
             "#0d0887"
            ],
            [
             0.1111111111111111,
             "#46039f"
            ],
            [
             0.2222222222222222,
             "#7201a8"
            ],
            [
             0.3333333333333333,
             "#9c179e"
            ],
            [
             0.4444444444444444,
             "#bd3786"
            ],
            [
             0.5555555555555556,
             "#d8576b"
            ],
            [
             0.6666666666666666,
             "#ed7953"
            ],
            [
             0.7777777777777778,
             "#fb9f3a"
            ],
            [
             0.8888888888888888,
             "#fdca26"
            ],
            [
             1,
             "#f0f921"
            ]
           ],
           "sequentialminus": [
            [
             0,
             "#0d0887"
            ],
            [
             0.1111111111111111,
             "#46039f"
            ],
            [
             0.2222222222222222,
             "#7201a8"
            ],
            [
             0.3333333333333333,
             "#9c179e"
            ],
            [
             0.4444444444444444,
             "#bd3786"
            ],
            [
             0.5555555555555556,
             "#d8576b"
            ],
            [
             0.6666666666666666,
             "#ed7953"
            ],
            [
             0.7777777777777778,
             "#fb9f3a"
            ],
            [
             0.8888888888888888,
             "#fdca26"
            ],
            [
             1,
             "#f0f921"
            ]
           ]
          },
          "colorway": [
           "#636efa",
           "#EF553B",
           "#00cc96",
           "#ab63fa",
           "#FFA15A",
           "#19d3f3",
           "#FF6692",
           "#B6E880",
           "#FF97FF",
           "#FECB52"
          ],
          "font": {
           "color": "#2a3f5f"
          },
          "geo": {
           "bgcolor": "white",
           "lakecolor": "white",
           "landcolor": "#E5ECF6",
           "showlakes": true,
           "showland": true,
           "subunitcolor": "white"
          },
          "hoverlabel": {
           "align": "left"
          },
          "hovermode": "closest",
          "mapbox": {
           "style": "light"
          },
          "paper_bgcolor": "white",
          "plot_bgcolor": "#E5ECF6",
          "polar": {
           "angularaxis": {
            "gridcolor": "white",
            "linecolor": "white",
            "ticks": ""
           },
           "bgcolor": "#E5ECF6",
           "radialaxis": {
            "gridcolor": "white",
            "linecolor": "white",
            "ticks": ""
           }
          },
          "scene": {
           "xaxis": {
            "backgroundcolor": "#E5ECF6",
            "gridcolor": "white",
            "gridwidth": 2,
            "linecolor": "white",
            "showbackground": true,
            "ticks": "",
            "zerolinecolor": "white"
           },
           "yaxis": {
            "backgroundcolor": "#E5ECF6",
            "gridcolor": "white",
            "gridwidth": 2,
            "linecolor": "white",
            "showbackground": true,
            "ticks": "",
            "zerolinecolor": "white"
           },
           "zaxis": {
            "backgroundcolor": "#E5ECF6",
            "gridcolor": "white",
            "gridwidth": 2,
            "linecolor": "white",
            "showbackground": true,
            "ticks": "",
            "zerolinecolor": "white"
           }
          },
          "shapedefaults": {
           "line": {
            "color": "#2a3f5f"
           }
          },
          "ternary": {
           "aaxis": {
            "gridcolor": "white",
            "linecolor": "white",
            "ticks": ""
           },
           "baxis": {
            "gridcolor": "white",
            "linecolor": "white",
            "ticks": ""
           },
           "bgcolor": "#E5ECF6",
           "caxis": {
            "gridcolor": "white",
            "linecolor": "white",
            "ticks": ""
           }
          },
          "title": {
           "x": 0.05
          },
          "xaxis": {
           "automargin": true,
           "gridcolor": "white",
           "linecolor": "white",
           "ticks": "",
           "title": {
            "standoff": 15
           },
           "zerolinecolor": "white",
           "zerolinewidth": 2
          },
          "yaxis": {
           "automargin": true,
           "gridcolor": "white",
           "linecolor": "white",
           "ticks": "",
           "title": {
            "standoff": 15
           },
           "zerolinecolor": "white",
           "zerolinewidth": 2
          }
         }
        },
        "title": {
         "text": "Wildfire contention"
        },
        "xaxis": {
         "title": {
          "text": "Periods"
         }
        },
        "yaxis": {
         "title": {
          "text": "Perimeter (km)"
         }
        }
       }
      },
      "text/html": [
       "<div>\n",
       "        \n",
       "        \n",
       "            <div id=\"cead4974-b52e-418c-b39c-b810b4a063f4\" class=\"plotly-graph-div\" style=\"height:525px; width:100%;\"></div>\n",
       "            <script type=\"text/javascript\">\n",
       "                require([\"plotly\"], function(Plotly) {\n",
       "                    window.PLOTLYENV=window.PLOTLYENV || {};\n",
       "                    \n",
       "                if (document.getElementById(\"cead4974-b52e-418c-b39c-b810b4a063f4\")) {\n",
       "                    Plotly.newPlot(\n",
       "                        'cead4974-b52e-418c-b39c-b810b4a063f4',\n",
       "                        [{\"line\": {\"shape\": \"vh\"}, \"mode\": \"lines+markers\", \"name\": \"perimeter\", \"type\": \"scatter\", \"x\": [0, 1, 2, 3, 4, 5, 6, 7, 8, 9, 10, 11, 12, 13, 14, 15], \"y\": [2.2, 2.2, 7.92, 13.64, 21.45, 31.02, 40.59, 50.16, 51.03, 62.46, 74.25, 80.55, 80.55, 80.55, 80.55, 80.55]}, {\"line\": {\"shape\": \"vh\"}, \"mode\": \"lines+markers\", \"name\": \"performance\", \"type\": \"scatter\", \"x\": [0, 1, 2, 3, 4, 5, 6, 7, 8, 9, 10, 11, 12, 13, 14, 15], \"y\": [1.0, 1.0, 2.0, 7.2, 12.4, 19.5, 28.2, 36.9, 45.599999999999994, 57.599999999999994, 69.6, 80.69999999999999, 80.69999999999999, 80.69999999999999, 80.69999999999999, 80.69999999999999]}],\n",
       "                        {\"template\": {\"data\": {\"bar\": [{\"error_x\": {\"color\": \"#2a3f5f\"}, \"error_y\": {\"color\": \"#2a3f5f\"}, \"marker\": {\"line\": {\"color\": \"#E5ECF6\", \"width\": 0.5}}, \"type\": \"bar\"}], \"barpolar\": [{\"marker\": {\"line\": {\"color\": \"#E5ECF6\", \"width\": 0.5}}, \"type\": \"barpolar\"}], \"carpet\": [{\"aaxis\": {\"endlinecolor\": \"#2a3f5f\", \"gridcolor\": \"white\", \"linecolor\": \"white\", \"minorgridcolor\": \"white\", \"startlinecolor\": \"#2a3f5f\"}, \"baxis\": {\"endlinecolor\": \"#2a3f5f\", \"gridcolor\": \"white\", \"linecolor\": \"white\", \"minorgridcolor\": \"white\", \"startlinecolor\": \"#2a3f5f\"}, \"type\": \"carpet\"}], \"choropleth\": [{\"colorbar\": {\"outlinewidth\": 0, \"ticks\": \"\"}, \"type\": \"choropleth\"}], \"contour\": [{\"colorbar\": {\"outlinewidth\": 0, \"ticks\": \"\"}, \"colorscale\": [[0.0, \"#0d0887\"], [0.1111111111111111, \"#46039f\"], [0.2222222222222222, \"#7201a8\"], [0.3333333333333333, \"#9c179e\"], [0.4444444444444444, \"#bd3786\"], [0.5555555555555556, \"#d8576b\"], [0.6666666666666666, \"#ed7953\"], [0.7777777777777778, \"#fb9f3a\"], [0.8888888888888888, \"#fdca26\"], [1.0, \"#f0f921\"]], \"type\": \"contour\"}], \"contourcarpet\": [{\"colorbar\": {\"outlinewidth\": 0, \"ticks\": \"\"}, \"type\": \"contourcarpet\"}], \"heatmap\": [{\"colorbar\": {\"outlinewidth\": 0, \"ticks\": \"\"}, \"colorscale\": [[0.0, \"#0d0887\"], [0.1111111111111111, \"#46039f\"], [0.2222222222222222, \"#7201a8\"], [0.3333333333333333, \"#9c179e\"], [0.4444444444444444, \"#bd3786\"], [0.5555555555555556, \"#d8576b\"], [0.6666666666666666, \"#ed7953\"], [0.7777777777777778, \"#fb9f3a\"], [0.8888888888888888, \"#fdca26\"], [1.0, \"#f0f921\"]], \"type\": \"heatmap\"}], \"heatmapgl\": [{\"colorbar\": {\"outlinewidth\": 0, \"ticks\": \"\"}, \"colorscale\": [[0.0, \"#0d0887\"], [0.1111111111111111, \"#46039f\"], [0.2222222222222222, \"#7201a8\"], [0.3333333333333333, \"#9c179e\"], [0.4444444444444444, \"#bd3786\"], [0.5555555555555556, \"#d8576b\"], [0.6666666666666666, \"#ed7953\"], [0.7777777777777778, \"#fb9f3a\"], [0.8888888888888888, \"#fdca26\"], [1.0, \"#f0f921\"]], \"type\": \"heatmapgl\"}], \"histogram\": [{\"marker\": {\"colorbar\": {\"outlinewidth\": 0, \"ticks\": \"\"}}, \"type\": \"histogram\"}], \"histogram2d\": [{\"colorbar\": {\"outlinewidth\": 0, \"ticks\": \"\"}, \"colorscale\": [[0.0, \"#0d0887\"], [0.1111111111111111, \"#46039f\"], [0.2222222222222222, \"#7201a8\"], [0.3333333333333333, \"#9c179e\"], [0.4444444444444444, \"#bd3786\"], [0.5555555555555556, \"#d8576b\"], [0.6666666666666666, \"#ed7953\"], [0.7777777777777778, \"#fb9f3a\"], [0.8888888888888888, \"#fdca26\"], [1.0, \"#f0f921\"]], \"type\": \"histogram2d\"}], \"histogram2dcontour\": [{\"colorbar\": {\"outlinewidth\": 0, \"ticks\": \"\"}, \"colorscale\": [[0.0, \"#0d0887\"], [0.1111111111111111, \"#46039f\"], [0.2222222222222222, \"#7201a8\"], [0.3333333333333333, \"#9c179e\"], [0.4444444444444444, \"#bd3786\"], [0.5555555555555556, \"#d8576b\"], [0.6666666666666666, \"#ed7953\"], [0.7777777777777778, \"#fb9f3a\"], [0.8888888888888888, \"#fdca26\"], [1.0, \"#f0f921\"]], \"type\": \"histogram2dcontour\"}], \"mesh3d\": [{\"colorbar\": {\"outlinewidth\": 0, \"ticks\": \"\"}, \"type\": \"mesh3d\"}], \"parcoords\": [{\"line\": {\"colorbar\": {\"outlinewidth\": 0, \"ticks\": \"\"}}, \"type\": \"parcoords\"}], \"pie\": [{\"automargin\": true, \"type\": \"pie\"}], \"scatter\": [{\"marker\": {\"colorbar\": {\"outlinewidth\": 0, \"ticks\": \"\"}}, \"type\": \"scatter\"}], \"scatter3d\": [{\"line\": {\"colorbar\": {\"outlinewidth\": 0, \"ticks\": \"\"}}, \"marker\": {\"colorbar\": {\"outlinewidth\": 0, \"ticks\": \"\"}}, \"type\": \"scatter3d\"}], \"scattercarpet\": [{\"marker\": {\"colorbar\": {\"outlinewidth\": 0, \"ticks\": \"\"}}, \"type\": \"scattercarpet\"}], \"scattergeo\": [{\"marker\": {\"colorbar\": {\"outlinewidth\": 0, \"ticks\": \"\"}}, \"type\": \"scattergeo\"}], \"scattergl\": [{\"marker\": {\"colorbar\": {\"outlinewidth\": 0, \"ticks\": \"\"}}, \"type\": \"scattergl\"}], \"scattermapbox\": [{\"marker\": {\"colorbar\": {\"outlinewidth\": 0, \"ticks\": \"\"}}, \"type\": \"scattermapbox\"}], \"scatterpolar\": [{\"marker\": {\"colorbar\": {\"outlinewidth\": 0, \"ticks\": \"\"}}, \"type\": \"scatterpolar\"}], \"scatterpolargl\": [{\"marker\": {\"colorbar\": {\"outlinewidth\": 0, \"ticks\": \"\"}}, \"type\": \"scatterpolargl\"}], \"scatterternary\": [{\"marker\": {\"colorbar\": {\"outlinewidth\": 0, \"ticks\": \"\"}}, \"type\": \"scatterternary\"}], \"surface\": [{\"colorbar\": {\"outlinewidth\": 0, \"ticks\": \"\"}, \"colorscale\": [[0.0, \"#0d0887\"], [0.1111111111111111, \"#46039f\"], [0.2222222222222222, \"#7201a8\"], [0.3333333333333333, \"#9c179e\"], [0.4444444444444444, \"#bd3786\"], [0.5555555555555556, \"#d8576b\"], [0.6666666666666666, \"#ed7953\"], [0.7777777777777778, \"#fb9f3a\"], [0.8888888888888888, \"#fdca26\"], [1.0, \"#f0f921\"]], \"type\": \"surface\"}], \"table\": [{\"cells\": {\"fill\": {\"color\": \"#EBF0F8\"}, \"line\": {\"color\": \"white\"}}, \"header\": {\"fill\": {\"color\": \"#C8D4E3\"}, \"line\": {\"color\": \"white\"}}, \"type\": \"table\"}]}, \"layout\": {\"annotationdefaults\": {\"arrowcolor\": \"#2a3f5f\", \"arrowhead\": 0, \"arrowwidth\": 1}, \"coloraxis\": {\"colorbar\": {\"outlinewidth\": 0, \"ticks\": \"\"}}, \"colorscale\": {\"diverging\": [[0, \"#8e0152\"], [0.1, \"#c51b7d\"], [0.2, \"#de77ae\"], [0.3, \"#f1b6da\"], [0.4, \"#fde0ef\"], [0.5, \"#f7f7f7\"], [0.6, \"#e6f5d0\"], [0.7, \"#b8e186\"], [0.8, \"#7fbc41\"], [0.9, \"#4d9221\"], [1, \"#276419\"]], \"sequential\": [[0.0, \"#0d0887\"], [0.1111111111111111, \"#46039f\"], [0.2222222222222222, \"#7201a8\"], [0.3333333333333333, \"#9c179e\"], [0.4444444444444444, \"#bd3786\"], [0.5555555555555556, \"#d8576b\"], [0.6666666666666666, \"#ed7953\"], [0.7777777777777778, \"#fb9f3a\"], [0.8888888888888888, \"#fdca26\"], [1.0, \"#f0f921\"]], \"sequentialminus\": [[0.0, \"#0d0887\"], [0.1111111111111111, \"#46039f\"], [0.2222222222222222, \"#7201a8\"], [0.3333333333333333, \"#9c179e\"], [0.4444444444444444, \"#bd3786\"], [0.5555555555555556, \"#d8576b\"], [0.6666666666666666, \"#ed7953\"], [0.7777777777777778, \"#fb9f3a\"], [0.8888888888888888, \"#fdca26\"], [1.0, \"#f0f921\"]]}, \"colorway\": [\"#636efa\", \"#EF553B\", \"#00cc96\", \"#ab63fa\", \"#FFA15A\", \"#19d3f3\", \"#FF6692\", \"#B6E880\", \"#FF97FF\", \"#FECB52\"], \"font\": {\"color\": \"#2a3f5f\"}, \"geo\": {\"bgcolor\": \"white\", \"lakecolor\": \"white\", \"landcolor\": \"#E5ECF6\", \"showlakes\": true, \"showland\": true, \"subunitcolor\": \"white\"}, \"hoverlabel\": {\"align\": \"left\"}, \"hovermode\": \"closest\", \"mapbox\": {\"style\": \"light\"}, \"paper_bgcolor\": \"white\", \"plot_bgcolor\": \"#E5ECF6\", \"polar\": {\"angularaxis\": {\"gridcolor\": \"white\", \"linecolor\": \"white\", \"ticks\": \"\"}, \"bgcolor\": \"#E5ECF6\", \"radialaxis\": {\"gridcolor\": \"white\", \"linecolor\": \"white\", \"ticks\": \"\"}}, \"scene\": {\"xaxis\": {\"backgroundcolor\": \"#E5ECF6\", \"gridcolor\": \"white\", \"gridwidth\": 2, \"linecolor\": \"white\", \"showbackground\": true, \"ticks\": \"\", \"zerolinecolor\": \"white\"}, \"yaxis\": {\"backgroundcolor\": \"#E5ECF6\", \"gridcolor\": \"white\", \"gridwidth\": 2, \"linecolor\": \"white\", \"showbackground\": true, \"ticks\": \"\", \"zerolinecolor\": \"white\"}, \"zaxis\": {\"backgroundcolor\": \"#E5ECF6\", \"gridcolor\": \"white\", \"gridwidth\": 2, \"linecolor\": \"white\", \"showbackground\": true, \"ticks\": \"\", \"zerolinecolor\": \"white\"}}, \"shapedefaults\": {\"line\": {\"color\": \"#2a3f5f\"}}, \"ternary\": {\"aaxis\": {\"gridcolor\": \"white\", \"linecolor\": \"white\", \"ticks\": \"\"}, \"baxis\": {\"gridcolor\": \"white\", \"linecolor\": \"white\", \"ticks\": \"\"}, \"bgcolor\": \"#E5ECF6\", \"caxis\": {\"gridcolor\": \"white\", \"linecolor\": \"white\", \"ticks\": \"\"}}, \"title\": {\"x\": 0.05}, \"xaxis\": {\"automargin\": true, \"gridcolor\": \"white\", \"linecolor\": \"white\", \"ticks\": \"\", \"title\": {\"standoff\": 15}, \"zerolinecolor\": \"white\", \"zerolinewidth\": 2}, \"yaxis\": {\"automargin\": true, \"gridcolor\": \"white\", \"linecolor\": \"white\", \"ticks\": \"\", \"title\": {\"standoff\": 15}, \"zerolinecolor\": \"white\", \"zerolinewidth\": 2}}}, \"title\": {\"text\": \"Wildfire contention\"}, \"xaxis\": {\"title\": {\"text\": \"Periods\"}}, \"yaxis\": {\"title\": {\"text\": \"Perimeter (km)\"}}},\n",
       "                        {\"responsive\": true}\n",
       "                    ).then(function(){\n",
       "                            \n",
       "var gd = document.getElementById('cead4974-b52e-418c-b39c-b810b4a063f4');\n",
       "var x = new MutationObserver(function (mutations, observer) {{\n",
       "        var display = window.getComputedStyle(gd).display;\n",
       "        if (!display || display === 'none') {{\n",
       "            console.log([gd, 'removed!']);\n",
       "            Plotly.purge(gd);\n",
       "            observer.disconnect();\n",
       "        }}\n",
       "}});\n",
       "\n",
       "// Listen for the removal of the full notebook cells\n",
       "var notebookContainer = gd.closest('#notebook-container');\n",
       "if (notebookContainer) {{\n",
       "    x.observe(notebookContainer, {childList: true});\n",
       "}}\n",
       "\n",
       "// Listen for the clearing of the current output cell\n",
       "var outputEl = gd.closest('.output');\n",
       "if (outputEl) {{\n",
       "    x.observe(outputEl, {childList: true});\n",
       "}}\n",
       "\n",
       "                        })\n",
       "                };\n",
       "                });\n",
       "            </script>\n",
       "        </div>"
      ]
     },
     "metadata": {},
     "output_type": "display_data"
    }
   ],
   "source": [
    "problem.plot(info='contention')"
   ]
  },
  {
   "cell_type": "markdown",
   "metadata": {},
   "source": [
    "# AL"
   ]
  },
  {
   "cell_type": "code",
   "execution_count": null,
   "metadata": {
    "scrolled": true
   },
   "outputs": [],
   "source": [
    "time1=time.time()\n",
    "problem.solve(method='AL', AL_options={'max_time': 600, 'max_iters': 100})\n",
    "print(time.time()-time1)"
   ]
  },
  {
   "cell_type": "code",
   "execution_count": null,
   "metadata": {},
   "outputs": [],
   "source": [
    "import datetime\n",
    "now = datetime.datetime(2019, 10, 14, 20, 30)\n",
    "diff = (datetime.datetime(2019, 10, 14, 21, 45) - now)\n",
    "\n",
    "totsec = diff.total_seconds()\n",
    "h = totsec//3600\n",
    "m = (totsec%3600) // 60\n",
    "\n",
    "time_form = []\n",
    "if h > 0:\n",
    "    time_form.append(\"%d h\"%h)\n",
    "\n",
    "if m > 0:\n",
    "    time_form.append(\"%d min\"%m)\n",
    "\n",
    "if len(time_form) == 0:\n",
    "    time_form = [\"0 min\"]\n",
    "    \n",
    "print(\" \".join(time_form))"
   ]
  },
  {
   "cell_type": "code",
   "execution_count": null,
   "metadata": {},
   "outputs": [],
   "source": [
    "problem.get_solution_info()"
   ]
  },
  {
   "cell_type": "markdown",
   "metadata": {},
   "source": [
    "## Análisis de los resultados"
   ]
  },
  {
   "cell_type": "code",
   "execution_count": null,
   "metadata": {},
   "outputs": [],
   "source": [
    "AL_cost = problem.get_cost()\n",
    "print(AL_cost)"
   ]
  },
  {
   "cell_type": "code",
   "execution_count": null,
   "metadata": {},
   "outputs": [],
   "source": [
    "problem.get_infeas_constraints()"
   ]
  },
  {
   "cell_type": "code",
   "execution_count": null,
   "metadata": {
    "scrolled": false
   },
   "outputs": [],
   "source": [
    "problem.plot(info='scheduling')"
   ]
  },
  {
   "cell_type": "code",
   "execution_count": null,
   "metadata": {},
   "outputs": [],
   "source": [
    "problem.plot(info='contention')"
   ]
  },
  {
   "cell_type": "markdown",
   "metadata": {},
   "source": [
    "# GUROBI"
   ]
  },
  {
   "cell_type": "code",
   "execution_count": null,
   "metadata": {},
   "outputs": [],
   "source": [
    "time1=time.time()\n",
    "solution = problem.solve(original_options={\n",
    "    'solver_options': {'MIPGapAbs': 0, 'MIPGap': 0, 'OutputFlag': 0, 'LogToConsole': 0, 'TimeLimit': 600},\n",
    "    'valid_constraints': ['contention']\n",
    "})\n",
    "print(time.time()-time1)"
   ]
  },
  {
   "cell_type": "markdown",
   "metadata": {},
   "source": [
    "## Análisis de los resultados"
   ]
  },
  {
   "cell_type": "code",
   "execution_count": null,
   "metadata": {},
   "outputs": [],
   "source": [
    "gurobi_cost = problem.get_cost()\n",
    "print(gurobi_cost)"
   ]
  },
  {
   "cell_type": "code",
   "execution_count": null,
   "metadata": {},
   "outputs": [],
   "source": [
    "problem.get_infeas_constraints()"
   ]
  },
  {
   "cell_type": "code",
   "execution_count": null,
   "metadata": {
    "scrolled": false
   },
   "outputs": [],
   "source": [
    "problem.plot(info='scheduling')"
   ]
  },
  {
   "cell_type": "code",
   "execution_count": null,
   "metadata": {},
   "outputs": [],
   "source": [
    "problem.plot(info='contention')"
   ]
  },
  {
   "cell_type": "markdown",
   "metadata": {},
   "source": [
    "# Fix Work Algorithm"
   ]
  },
  {
   "cell_type": "code",
   "execution_count": null,
   "metadata": {},
   "outputs": [],
   "source": [
    "time1=time.time()\n",
    "model = problem.solve(\n",
    "    method='fix_work',\n",
    "    fix_work_options={\n",
    "        'solver_options': {'MIPGapAbs': 0, 'MIPGap': 0, 'OutputFlag': 0, 'LogToConsole': 0, 'TimeLimit': 600},\n",
    "        'mip_gap_obj': -1,\n",
    "        'n_start_info': None,\n",
    "        'max_time': 600,\n",
    "        'max_iters': 100,\n",
    "        'start_period': 60,\n",
    "        'step_period': 10,\n",
    "        'valid_constraints': ['work', 'contention', 'max_obj']\n",
    "    }, log_level='fix_work')\n",
    "print(time.time()-time1)"
   ]
  },
  {
   "cell_type": "markdown",
   "metadata": {},
   "source": [
    "## Análisis de los resultados"
   ]
  },
  {
   "cell_type": "code",
   "execution_count": null,
   "metadata": {},
   "outputs": [],
   "source": [
    "print(problem.get_cost())\n",
    "try:\n",
    "    print(gurobi_cost)\n",
    "except:\n",
    "    pass"
   ]
  },
  {
   "cell_type": "code",
   "execution_count": null,
   "metadata": {},
   "outputs": [],
   "source": [
    "problem.mipgap * problem.get_cost()"
   ]
  },
  {
   "cell_type": "code",
   "execution_count": null,
   "metadata": {},
   "outputs": [],
   "source": [
    "problem.get_infeas_constraints()"
   ]
  },
  {
   "cell_type": "code",
   "execution_count": null,
   "metadata": {},
   "outputs": [],
   "source": [
    "firedecomp.fix_work.utils.get_start_resource_info(problem.data, 'aircraft_15', 1, False)"
   ]
  },
  {
   "cell_type": "code",
   "execution_count": null,
   "metadata": {},
   "outputs": [],
   "source": [
    "problem.data.CRP"
   ]
  },
  {
   "cell_type": "code",
   "execution_count": null,
   "metadata": {},
   "outputs": [],
   "source": [
    "problem.fix_work_model.get_start_resource_info('aircraft_15', 1)"
   ]
  },
  {
   "cell_type": "code",
   "execution_count": null,
   "metadata": {},
   "outputs": [],
   "source": [
    "problem.plot(info='scheduling')"
   ]
  },
  {
   "cell_type": "code",
   "execution_count": null,
   "metadata": {},
   "outputs": [],
   "source": [
    "problem.plot(info='contention')"
   ]
  },
  {
   "cell_type": "markdown",
   "metadata": {},
   "source": [
    "# Análisis de soluciones infactibles"
   ]
  },
  {
   "cell_type": "markdown",
   "metadata": {},
   "source": [
    "Útil para analizar soluciones infactibles:"
   ]
  },
  {
   "cell_type": "code",
   "execution_count": null,
   "metadata": {},
   "outputs": [],
   "source": [
    "# solution.variables.cr\n",
    "# solution.model.computeIIS()\n",
    "# for c in solution.model.getConstrs():\n",
    "#     if c.IISConstr > 0:\n",
    "#         print(c.ConstrName)\n",
    "#         print(c.IISConstr)\n",
    "# solution.model.write(\"model.ilp\")"
   ]
  },
  {
   "cell_type": "code",
   "execution_count": null,
   "metadata": {},
   "outputs": [],
   "source": []
  },
  {
   "cell_type": "code",
   "execution_count": null,
   "metadata": {},
   "outputs": [],
   "source": []
  },
  {
   "cell_type": "code",
   "execution_count": null,
   "metadata": {},
   "outputs": [],
   "source": []
  },
  {
   "cell_type": "code",
   "execution_count": null,
   "metadata": {},
   "outputs": [],
   "source": [
    "# Python packages\n",
    "import numpy as np\n",
    "import bson\n",
    "\n",
    "# Package modules\n",
    "from firedecomp.classes.resources import Resources, Resource\n",
    "from firedecomp.classes.wildfire import Wildfire, Period\n",
    "from firedecomp.classes.groups import Group, Groups\n",
    "from firedecomp.classes.resources_wildfire import ResourcePeriod, \\\n",
    "    ResourcesWildfire\n",
    "from firedecomp.classes.groups_wildfire import GroupPeriod, GroupsWildfire\n",
    "from firedecomp.classes.problem import Problem\n",
    "from firedecomp.data import  random as r\n",
    "from firedecomp.fix_work import utils"
   ]
  },
  {
   "cell_type": "code",
   "execution_count": null,
   "metadata": {},
   "outputs": [],
   "source": [
    "from firedecomp.data.examples import *"
   ]
  },
  {
   "cell_type": "code",
   "execution_count": null,
   "metadata": {},
   "outputs": [],
   "source": [
    "num_brigades=5\n",
    "num_aircraft=5\n",
    "num_machines=5\n",
    "num_periods=20\n",
    "contention_factor=10\n",
    "random=False\n",
    "seed=None"
   ]
  },
  {
   "cell_type": "code",
   "execution_count": null,
   "metadata": {},
   "outputs": [],
   "source": [
    "\"\"\"Input example.\"\"\"\n",
    "if seed is not None:\n",
    "    np.random.seed(seed)\n",
    "else:\n",
    "    seed = 1\n",
    "    if random is not True:\n",
    "        np.random.seed(seed)\n",
    "\n",
    "brigades = resources_example(num_brigades=num_brigades,\n",
    "                             num_aircraft=0,\n",
    "                             num_machines=0,\n",
    "                             random=random, seed=seed)\n",
    "\n",
    "aircraft = resources_example(num_brigades=0,\n",
    "                             num_aircraft=num_aircraft,\n",
    "                             num_machines=0,\n",
    "                             random=random, seed=seed)\n",
    "\n",
    "machines = resources_example(num_brigades=0,\n",
    "                             num_aircraft=0,\n",
    "                             num_machines=num_machines,\n",
    "                             random=random, seed=seed)\n",
    "\n",
    "resources = Resources(list(brigades) + list(aircraft) + list(machines))\n",
    "\n",
    "brigades_grp = Group(name='brigades', resources=brigades)\n",
    "aircraft_grp = Group(name='aircraft', resources=aircraft)\n",
    "machines_grp = Group(name='machines', resources=machines)\n",
    "groups = Groups([brigades_grp, aircraft_grp, machines_grp])\n",
    "\n",
    "wildfire = wildfire_example(\n",
    "    num_periods=num_periods, ini_perimeter=20, random=random,\n",
    "    seed=seed)\n",
    "\n",
    "res_wild = ResourcesWildfire([ResourcePeriod(i, p, resources_efficiency=1)\n",
    "                              for i in resources for p in wildfire])\n",
    "\n",
    "group_bounds = {\n",
    "    g: (\n",
    "        max(1, r.random_num(min(1, g.size()), g.size()/4, zero=0)),\n",
    "        min(5, r.random_num(g.size() * 3 / 4, g.size(), zero=0))\n",
    "    )\n",
    "    for g in groups}\n",
    "\n",
    "grp_wild = GroupsWildfire([\n",
    "    GroupPeriod(\n",
    "        g, p,\n",
    "        min_res_groups=group_bounds[g][0],\n",
    "        max_res_groups=group_bounds[g][1])\n",
    "    for g in groups for p in wildfire])\n",
    "\n",
    "problem_data = Problem(resources, wildfire, groups, grp_wild, res_wild)\n",
    "data = problem_data.data"
   ]
  },
  {
   "cell_type": "code",
   "execution_count": null,
   "metadata": {},
   "outputs": [],
   "source": [
    "info = utils.get_start_info(\n",
    "    data=data,\n",
    "    start_dict={(i, t): 1 if t == 1 else 0\n",
    "                for i, t in res_wild.get_names()})\n",
    "\n",
    "info"
   ]
  },
  {
   "cell_type": "code",
   "execution_count": null,
   "metadata": {},
   "outputs": [],
   "source": [
    "sum_work_periods = {\n",
    "    t: {\n",
    "        i: sum([info['work'][i, t]*data.PR[i, t] \n",
    "                for t in data.T_int(p_max=t) \n",
    "                if t <= data.WP[i] - data.CUP[i]])\n",
    "        \n",
    "        for i in data.I\n",
    "       }\n",
    "    for t in data.T}\n",
    "\n",
    "sum_work_periods"
   ]
  },
  {
   "cell_type": "code",
   "execution_count": null,
   "metadata": {},
   "outputs": [],
   "source": [
    "max_performance = dict()\n",
    "for p in problem_data.wildfire:\n",
    "    max_performance[p.get_index()] =\\\n",
    "        round(sum([\n",
    "            sum(\n",
    "                np.sort([\n",
    "                    sum_work_periods[p.get_index()][r.get_index()]\n",
    "                    for r in gp.group]\n",
    "                )[:gp.max_res_groups]\n",
    "            ) for gp in p.__group_period__]),\n",
    "          2)\n",
    "    \n",
    "max_performance"
   ]
  },
  {
   "cell_type": "code",
   "execution_count": null,
   "metadata": {},
   "outputs": [],
   "source": [
    "def get_perimeter(max_perf, min_per, percent=1.1):\n",
    "    return round(max(min_per, max_perf*percent), 2)"
   ]
  },
  {
   "cell_type": "code",
   "execution_count": null,
   "metadata": {},
   "outputs": [],
   "source": [
    "ini_perimeter = 50\n",
    "prev_per = ini_perimeter\n",
    "\n",
    "periods_names = problem_data.wildfire.get_names()\n",
    "min_p = min(periods_names)\n",
    "max_p = max(periods_names)\n",
    "content_period = r.random_num(min_val=max(min_p, max_p-10), max_val=max_p-1, zero=0)\n",
    "    \n",
    "\n",
    "for p in problem_data.wildfire:\n",
    "    if p.get_index() >= content_period:\n",
    "        percent=0.9\n",
    "    else:\n",
    "        percent=1.1\n",
    "        \n",
    "    p.perimeter = get_perimeter(\n",
    "        max_perf=max_performance[p.get_index()],\n",
    "        min_per=prev_per,\n",
    "        percent=percent)\n",
    "    prev_per = p.perimeter\n",
    "\n",
    "problem_data.wildfire.compute_increments()\n",
    "\n",
    "problem_data.__build_data__()\n",
    "problem_data.__build_period_data__()\n",
    "\n",
    "problem_data"
   ]
  },
  {
   "cell_type": "code",
   "execution_count": null,
   "metadata": {},
   "outputs": [],
   "source": [
    "import logging as log\n",
    "import firedecomp\n",
    "import time\n",
    "from firedecomp.original import model\n",
    "from firedecomp.AL import AL\n",
    "from firedecomp.AL import ADPP\n",
    "from firedecomp.AL import ARPP\n",
    "from firedecomp import config\n",
    "from firedecomp import plot\n",
    "\n",
    "problem = firedecomp.data.examples.small_example(); problem\n",
    "#problem = firedecomp.data.examples.input_example(num_aircraft=4, ini_perimeter=80, random=False, seed=11);\n",
    "method='LR'\n",
    "solver_options=None\n",
    "method_options=None\n",
    "log_level='LR'\n",
    "\n",
    "if log_level is None:\n",
    "    log_level = 'LR'\n",
    "\n",
    "default_LR_options = {\n",
    "    'min_res_penalty': 1000000,\n",
    "    'gap': 0.01,\n",
    "\n",
    "}\n",
    "\n",
    "if isinstance(method_options, dict):\n",
    "    default_LR_options.update(method_options)\n",
    "\n",
    "LR_problem = AL.AugmentedLagrangian(problem, **default_LR_options, log_level=log_level); \n",
    "sol = LR_problem.solve()"
   ]
  },
  {
   "cell_type": "code",
   "execution_count": null,
   "metadata": {},
   "outputs": [],
   "source": [
    "sol.get_"
   ]
  },
  {
   "cell_type": "code",
   "execution_count": null,
   "metadata": {},
   "outputs": [],
   "source": [
    "firedecomp.fix_work.utils.format_fix_work('Hola', 1000000000000000000000000.0, 1.2, 1)"
   ]
  }
 ],
 "metadata": {
  "hide_input": false,
  "kernelspec": {
   "display_name": "Python 3",
   "language": "python",
   "name": "python3"
  },
  "language_info": {
   "codemirror_mode": {
    "name": "ipython",
    "version": 3
   },
   "file_extension": ".py",
   "mimetype": "text/x-python",
   "name": "python",
   "nbconvert_exporter": "python",
   "pygments_lexer": "ipython3",
   "version": "3.6.9"
  },
  "toc": {
   "base_numbering": 1,
   "nav_menu": {},
   "number_sections": true,
   "sideBar": true,
   "skip_h1_title": false,
   "title_cell": "Table of Contents",
   "title_sidebar": "Contents",
   "toc_cell": false,
   "toc_position": {},
   "toc_section_display": true,
   "toc_window_display": false
  }
 },
 "nbformat": 4,
 "nbformat_minor": 2
}
